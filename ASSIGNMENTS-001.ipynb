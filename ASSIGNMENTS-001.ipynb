{
 "cells": [
  {
   "cell_type": "code",
   "execution_count": 1,
   "id": "5042bfd4",
   "metadata": {},
   "outputs": [
    {
     "data": {
      "text/plain": [
       "'\\n1. In the below elements which of them are values or an expression? eg:- values can be integer or string and expressions will be\\nmathematical operators.\\n* \\n\\'hello\\'\\n-87.8\\n- \\n/ \\n6 \\n\\nANSWER : VALUES : \"hello\",-87.8 , 6 ; mathematical operators : - , / , *\\n\\n2. What is the difference between string and variable?\\n\\nstring is data type and variable is something get assigned with values or strings for example x = 10 . here x is a variable\\n\\n3. Describe three different data types.\\n\\nint , float , double , string etc.\\n\\n4. What is an expression made up of? What do all expressions do?\\n\\nlegal combination of values . create a new value.For example, in the C language x+5 is an expression,\\n\\n5. This assignment statements, like spam = 10. What is the difference between an expression and a statement?\\n\\nexpression return return a value .statement does\\'nt return any value .\\n\\n6. After running the following code, what does the variable bacon contain?\\nbacon = 22\\nbacon + 1\\n\\nANSWER : 22\\n\\n7. What should the values of the following two terms be?\\n\\'spam\\' + \\'spamspam\\'\\n\\'spam\\' * 3\\n\\n1. spam is concatinated by three times \\n2. spam is multiplied by three times \\n'"
      ]
     },
     "execution_count": 1,
     "metadata": {},
     "output_type": "execute_result"
    }
   ],
   "source": [
    "\n",
    "1. In the below elements which of them are values or an expression? eg:- values can be integer or string and expressions will be\n",
    "mathematical operators.\n",
    "* \n",
    "'hello'\n",
    "-87.8\n",
    "- \n",
    "/ \n",
    "6 \n",
    "\n",
    "ANSWER : VALUES : \"hello\",-87.8 , 6 ; mathematical operators : - , / , *\n",
    "\n",
    "2. What is the difference between string and variable?\n",
    "\n",
    "string is data type and variable is something get assigned with values or strings for example x = 10 . here x is a variable\n",
    "\n",
    "3. Describe three different data types.\n",
    "\n",
    "int , float , double , string etc.\n",
    "\n",
    "4. What is an expression made up of? What do all expressions do?\n",
    "\n",
    "legal combination of values . create a new value.For example, in the C language x+5 is an expression,\n",
    "\n",
    "5. This assignment statements, like spam = 10. What is the difference between an expression and a statement?\n",
    "\n",
    "expression return  a value .statement does'nt return any value .\n",
    "\n",
    "6. After running the following code, what does the variable bacon contain?\n",
    "bacon = 22\n",
    "bacon + 1\n",
    "\n",
    "ANSWER : 22\n",
    "\n",
    "7. What should the values of the following two terms be?\n",
    "'spam' + 'spamspam'\n",
    "'spam' * 3\n",
    "\n",
    "1. spam is concatinated  :'spamspamspam'\n",
    "2. spam is multiplied by three times : 'spamspamspam'\n",
    "\n",
    "8. Why is eggs a valid variable name while 100 is invalid?\n",
    "\n",
    "To create variables there some set of rules we can use alphabet or _ but not number or any symbol as a starting letter.\n",
    "\n",
    "9. What three functions can be used to get the integer, floating-point number, or string version of a value?\n",
    "\n",
    "The int() , float() , and str( ) functions will evaluate to the integer floating-point number and string versions of the value \n",
    "passed to them.\n",
    " \n",
    "10. Why does this expression cause an error? How can you fix it?\n",
    "'I have eaten ' + 99 + ' burritos.'\n",
    "\n",
    "The error is due to concatination of different data types so to correct we convert 99 to string -- \n",
    "\"I have eaten \" + str(99) + \" burritos\"\n",
    "\n"
   ]
  }
 ],
 "metadata": {
  "kernelspec": {
   "display_name": "Python 3 (ipykernel)",
   "language": "python",
   "name": "python3"
  },
  "language_info": {
   "codemirror_mode": {
    "name": "ipython",
    "version": 3
   },
   "file_extension": ".py",
   "mimetype": "text/x-python",
   "name": "python",
   "nbconvert_exporter": "python",
   "pygments_lexer": "ipython3",
   "version": "3.7.11"
  }
 },
 "nbformat": 4,
 "nbformat_minor": 5
}
