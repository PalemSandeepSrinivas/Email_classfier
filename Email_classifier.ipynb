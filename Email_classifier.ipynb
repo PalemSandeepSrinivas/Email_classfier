{
  "cells": [
    {
      "cell_type": "markdown",
      "metadata": {
        "id": "view-in-github",
        "colab_type": "text"
      },
      "source": [
        "<a href=\"https://colab.research.google.com/github/PalemSandeepSrinivas/Email_classfier/blob/main/Email_classifier.ipynb\" target=\"_parent\"><img src=\"https://colab.research.google.com/assets/colab-badge.svg\" alt=\"Open In Colab\"/></a>"
      ]
    },
    {
      "cell_type": "markdown",
      "id": "ae33f7b1",
      "metadata": {
        "id": "ae33f7b1"
      },
      "source": [
        "# Problem statement"
      ]
    },
    {
      "cell_type": "markdown",
      "id": "46a2dd55",
      "metadata": {
        "id": "46a2dd55"
      },
      "source": [
        "\n",
        "## TO CLASSIFY THE MAIL AS SPAM OR HAM BY USING MACHINE MODEL,AND GIVE THE BEST ACCURACY SCORE TO THE PROBLEMS."
      ]
    },
    {
      "cell_type": "code",
      "source": [
        "from google.colab import drive\n",
        "drive.mount('/content/drive')"
      ],
      "metadata": {
        "id": "42xpyaCxWoZI",
        "colab": {
          "base_uri": "https://localhost:8080/"
        },
        "outputId": "7711163a-d1b6-4ad3-94d9-78e50bb3b982"
      },
      "id": "42xpyaCxWoZI",
      "execution_count": 1,
      "outputs": [
        {
          "output_type": "stream",
          "name": "stdout",
          "text": [
            "Mounted at /content/drive\n"
          ]
        }
      ]
    },
    {
      "cell_type": "code",
      "execution_count": 2,
      "id": "881666ec",
      "metadata": {
        "id": "881666ec"
      },
      "outputs": [],
      "source": [
        "#Import the standard librarys\n",
        "import pandas as pd\n",
        "import numpy as np\n",
        "import matplotlib.pyplot as plt\n",
        "import seaborn as sns\n",
        "from sklearn.feature_extraction.text import TfidfVectorizer\n",
        "from sklearn.model_selection import train_test_split\n",
        "from sklearn.linear_model import LogisticRegression\n",
        "import re\n",
        "from textblob import TextBlob ## used to get the part's of speech\n",
        "from nltk.tokenize.toktok import ToktokTokenizer # toktok one sentences for one line and words very good for english \n",
        "import string\n",
        "import nltk\n",
        "from sklearn.metrics import accuracy_score,classification_report,confusion_matrix\n",
        "import spacy\n",
        "nlp = spacy.load('en_core_web_sm', disable=['ner'])\n",
        "import warnings\n",
        "warnings.filterwarnings('ignore')"
      ]
    },
    {
      "cell_type": "code",
      "execution_count": 3,
      "id": "149f449b",
      "metadata": {
        "colab": {
          "base_uri": "https://localhost:8080/",
          "height": 206
        },
        "id": "149f449b",
        "outputId": "28b6be0b-5e2f-4441-df85-f9a89a753e23"
      },
      "outputs": [
        {
          "output_type": "execute_result",
          "data": {
            "text/plain": [
              "     v1                                                 v2 Unnamed: 2  \\\n",
              "0   ham  Go until jurong point, crazy.. Available only ...        NaN   \n",
              "1   ham                      Ok lar... Joking wif u oni...        NaN   \n",
              "2  spam  Free entry in 2 a wkly comp to win FA Cup fina...        NaN   \n",
              "3   ham  U dun say so early hor... U c already then say...        NaN   \n",
              "4   ham  Nah I don't think he goes to usf, he lives aro...        NaN   \n",
              "\n",
              "  Unnamed: 3 Unnamed: 4  \n",
              "0        NaN        NaN  \n",
              "1        NaN        NaN  \n",
              "2        NaN        NaN  \n",
              "3        NaN        NaN  \n",
              "4        NaN        NaN  "
            ],
            "text/html": [
              "\n",
              "  <div id=\"df-a000452e-1644-49d1-8c0a-24649ba86359\">\n",
              "    <div class=\"colab-df-container\">\n",
              "      <div>\n",
              "<style scoped>\n",
              "    .dataframe tbody tr th:only-of-type {\n",
              "        vertical-align: middle;\n",
              "    }\n",
              "\n",
              "    .dataframe tbody tr th {\n",
              "        vertical-align: top;\n",
              "    }\n",
              "\n",
              "    .dataframe thead th {\n",
              "        text-align: right;\n",
              "    }\n",
              "</style>\n",
              "<table border=\"1\" class=\"dataframe\">\n",
              "  <thead>\n",
              "    <tr style=\"text-align: right;\">\n",
              "      <th></th>\n",
              "      <th>v1</th>\n",
              "      <th>v2</th>\n",
              "      <th>Unnamed: 2</th>\n",
              "      <th>Unnamed: 3</th>\n",
              "      <th>Unnamed: 4</th>\n",
              "    </tr>\n",
              "  </thead>\n",
              "  <tbody>\n",
              "    <tr>\n",
              "      <th>0</th>\n",
              "      <td>ham</td>\n",
              "      <td>Go until jurong point, crazy.. Available only ...</td>\n",
              "      <td>NaN</td>\n",
              "      <td>NaN</td>\n",
              "      <td>NaN</td>\n",
              "    </tr>\n",
              "    <tr>\n",
              "      <th>1</th>\n",
              "      <td>ham</td>\n",
              "      <td>Ok lar... Joking wif u oni...</td>\n",
              "      <td>NaN</td>\n",
              "      <td>NaN</td>\n",
              "      <td>NaN</td>\n",
              "    </tr>\n",
              "    <tr>\n",
              "      <th>2</th>\n",
              "      <td>spam</td>\n",
              "      <td>Free entry in 2 a wkly comp to win FA Cup fina...</td>\n",
              "      <td>NaN</td>\n",
              "      <td>NaN</td>\n",
              "      <td>NaN</td>\n",
              "    </tr>\n",
              "    <tr>\n",
              "      <th>3</th>\n",
              "      <td>ham</td>\n",
              "      <td>U dun say so early hor... U c already then say...</td>\n",
              "      <td>NaN</td>\n",
              "      <td>NaN</td>\n",
              "      <td>NaN</td>\n",
              "    </tr>\n",
              "    <tr>\n",
              "      <th>4</th>\n",
              "      <td>ham</td>\n",
              "      <td>Nah I don't think he goes to usf, he lives aro...</td>\n",
              "      <td>NaN</td>\n",
              "      <td>NaN</td>\n",
              "      <td>NaN</td>\n",
              "    </tr>\n",
              "  </tbody>\n",
              "</table>\n",
              "</div>\n",
              "      <button class=\"colab-df-convert\" onclick=\"convertToInteractive('df-a000452e-1644-49d1-8c0a-24649ba86359')\"\n",
              "              title=\"Convert this dataframe to an interactive table.\"\n",
              "              style=\"display:none;\">\n",
              "        \n",
              "  <svg xmlns=\"http://www.w3.org/2000/svg\" height=\"24px\"viewBox=\"0 0 24 24\"\n",
              "       width=\"24px\">\n",
              "    <path d=\"M0 0h24v24H0V0z\" fill=\"none\"/>\n",
              "    <path d=\"M18.56 5.44l.94 2.06.94-2.06 2.06-.94-2.06-.94-.94-2.06-.94 2.06-2.06.94zm-11 1L8.5 8.5l.94-2.06 2.06-.94-2.06-.94L8.5 2.5l-.94 2.06-2.06.94zm10 10l.94 2.06.94-2.06 2.06-.94-2.06-.94-.94-2.06-.94 2.06-2.06.94z\"/><path d=\"M17.41 7.96l-1.37-1.37c-.4-.4-.92-.59-1.43-.59-.52 0-1.04.2-1.43.59L10.3 9.45l-7.72 7.72c-.78.78-.78 2.05 0 2.83L4 21.41c.39.39.9.59 1.41.59.51 0 1.02-.2 1.41-.59l7.78-7.78 2.81-2.81c.8-.78.8-2.07 0-2.86zM5.41 20L4 18.59l7.72-7.72 1.47 1.35L5.41 20z\"/>\n",
              "  </svg>\n",
              "      </button>\n",
              "      \n",
              "  <style>\n",
              "    .colab-df-container {\n",
              "      display:flex;\n",
              "      flex-wrap:wrap;\n",
              "      gap: 12px;\n",
              "    }\n",
              "\n",
              "    .colab-df-convert {\n",
              "      background-color: #E8F0FE;\n",
              "      border: none;\n",
              "      border-radius: 50%;\n",
              "      cursor: pointer;\n",
              "      display: none;\n",
              "      fill: #1967D2;\n",
              "      height: 32px;\n",
              "      padding: 0 0 0 0;\n",
              "      width: 32px;\n",
              "    }\n",
              "\n",
              "    .colab-df-convert:hover {\n",
              "      background-color: #E2EBFA;\n",
              "      box-shadow: 0px 1px 2px rgba(60, 64, 67, 0.3), 0px 1px 3px 1px rgba(60, 64, 67, 0.15);\n",
              "      fill: #174EA6;\n",
              "    }\n",
              "\n",
              "    [theme=dark] .colab-df-convert {\n",
              "      background-color: #3B4455;\n",
              "      fill: #D2E3FC;\n",
              "    }\n",
              "\n",
              "    [theme=dark] .colab-df-convert:hover {\n",
              "      background-color: #434B5C;\n",
              "      box-shadow: 0px 1px 3px 1px rgba(0, 0, 0, 0.15);\n",
              "      filter: drop-shadow(0px 1px 2px rgba(0, 0, 0, 0.3));\n",
              "      fill: #FFFFFF;\n",
              "    }\n",
              "  </style>\n",
              "\n",
              "      <script>\n",
              "        const buttonEl =\n",
              "          document.querySelector('#df-a000452e-1644-49d1-8c0a-24649ba86359 button.colab-df-convert');\n",
              "        buttonEl.style.display =\n",
              "          google.colab.kernel.accessAllowed ? 'block' : 'none';\n",
              "\n",
              "        async function convertToInteractive(key) {\n",
              "          const element = document.querySelector('#df-a000452e-1644-49d1-8c0a-24649ba86359');\n",
              "          const dataTable =\n",
              "            await google.colab.kernel.invokeFunction('convertToInteractive',\n",
              "                                                     [key], {});\n",
              "          if (!dataTable) return;\n",
              "\n",
              "          const docLinkHtml = 'Like what you see? Visit the ' +\n",
              "            '<a target=\"_blank\" href=https://colab.research.google.com/notebooks/data_table.ipynb>data table notebook</a>'\n",
              "            + ' to learn more about interactive tables.';\n",
              "          element.innerHTML = '';\n",
              "          dataTable['output_type'] = 'display_data';\n",
              "          await google.colab.output.renderOutput(dataTable, element);\n",
              "          const docLink = document.createElement('div');\n",
              "          docLink.innerHTML = docLinkHtml;\n",
              "          element.appendChild(docLink);\n",
              "        }\n",
              "      </script>\n",
              "    </div>\n",
              "  </div>\n",
              "  "
            ]
          },
          "metadata": {},
          "execution_count": 3
        }
      ],
      "source": [
        "#Read the data uisng the pandas\n",
        "data=pd.read_csv('/content/drive/MyDrive/spam.csv',encoding=\"ISO-8859-1\")\n",
        "data.head()"
      ]
    },
    {
      "cell_type": "code",
      "execution_count": 4,
      "id": "59610664",
      "metadata": {
        "colab": {
          "base_uri": "https://localhost:8080/"
        },
        "id": "59610664",
        "outputId": "15dbb800-dd69-46bf-c4df-5932a9dd5f5b"
      },
      "outputs": [
        {
          "output_type": "execute_result",
          "data": {
            "text/plain": [
              "(5572, 5)"
            ]
          },
          "metadata": {},
          "execution_count": 4
        }
      ],
      "source": [
        "#data shape\n",
        "data.shape"
      ]
    },
    {
      "cell_type": "code",
      "execution_count": 5,
      "id": "cc89641e",
      "metadata": {
        "colab": {
          "base_uri": "https://localhost:8080/"
        },
        "id": "cc89641e",
        "outputId": "6f878926-03e2-4de1-de47-d0483ab4a237"
      },
      "outputs": [
        {
          "output_type": "stream",
          "name": "stdout",
          "text": [
            "<class 'pandas.core.frame.DataFrame'>\n",
            "RangeIndex: 5572 entries, 0 to 5571\n",
            "Data columns (total 5 columns):\n",
            " #   Column      Non-Null Count  Dtype \n",
            "---  ------      --------------  ----- \n",
            " 0   v1          5572 non-null   object\n",
            " 1   v2          5572 non-null   object\n",
            " 2   Unnamed: 2  50 non-null     object\n",
            " 3   Unnamed: 3  12 non-null     object\n",
            " 4   Unnamed: 4  6 non-null      object\n",
            "dtypes: object(5)\n",
            "memory usage: 217.8+ KB\n"
          ]
        }
      ],
      "source": [
        "#data information\n",
        "data.info()"
      ]
    },
    {
      "cell_type": "code",
      "execution_count": 6,
      "id": "d4f1949e",
      "metadata": {
        "colab": {
          "base_uri": "https://localhost:8080/"
        },
        "id": "d4f1949e",
        "outputId": "01b8dee1-f6e4-4acd-db5d-96c3f2b881be"
      },
      "outputs": [
        {
          "output_type": "execute_result",
          "data": {
            "text/plain": [
              "Index(['v1', 'v2', 'Unnamed: 2', 'Unnamed: 3', 'Unnamed: 4'], dtype='object')"
            ]
          },
          "metadata": {},
          "execution_count": 6
        }
      ],
      "source": [
        "#data columns\n",
        "data.columns"
      ]
    },
    {
      "cell_type": "markdown",
      "id": "c584c2ee",
      "metadata": {
        "id": "c584c2ee"
      },
      "source": [
        "# DataPrepocessing"
      ]
    },
    {
      "cell_type": "code",
      "execution_count": 7,
      "id": "dddc2ec6",
      "metadata": {
        "colab": {
          "base_uri": "https://localhost:8080/"
        },
        "id": "dddc2ec6",
        "outputId": "3fea5bbd-5f50-4baa-faa0-159c2cd585c8"
      },
      "outputs": [
        {
          "output_type": "execute_result",
          "data": {
            "text/plain": [
              "v1               0\n",
              "v2               0\n",
              "Unnamed: 2    5522\n",
              "Unnamed: 3    5560\n",
              "Unnamed: 4    5566\n",
              "dtype: int64"
            ]
          },
          "metadata": {},
          "execution_count": 7
        }
      ],
      "source": [
        "#Check the null the values in the dataset\n",
        "data.isna().sum()"
      ]
    },
    {
      "cell_type": "code",
      "execution_count": 8,
      "id": "0d8338a1",
      "metadata": {
        "colab": {
          "base_uri": "https://localhost:8080/",
          "height": 206
        },
        "id": "0d8338a1",
        "outputId": "0b99aa46-15f8-4086-85d5-76baef5b1de7"
      },
      "outputs": [
        {
          "output_type": "execute_result",
          "data": {
            "text/plain": [
              "     v1                                                 v2\n",
              "0   ham  Go until jurong point, crazy.. Available only ...\n",
              "1   ham                      Ok lar... Joking wif u oni...\n",
              "2  spam  Free entry in 2 a wkly comp to win FA Cup fina...\n",
              "3   ham  U dun say so early hor... U c already then say...\n",
              "4   ham  Nah I don't think he goes to usf, he lives aro..."
            ],
            "text/html": [
              "\n",
              "  <div id=\"df-3d5b836f-77b9-4663-895a-fbb5a9f70c44\">\n",
              "    <div class=\"colab-df-container\">\n",
              "      <div>\n",
              "<style scoped>\n",
              "    .dataframe tbody tr th:only-of-type {\n",
              "        vertical-align: middle;\n",
              "    }\n",
              "\n",
              "    .dataframe tbody tr th {\n",
              "        vertical-align: top;\n",
              "    }\n",
              "\n",
              "    .dataframe thead th {\n",
              "        text-align: right;\n",
              "    }\n",
              "</style>\n",
              "<table border=\"1\" class=\"dataframe\">\n",
              "  <thead>\n",
              "    <tr style=\"text-align: right;\">\n",
              "      <th></th>\n",
              "      <th>v1</th>\n",
              "      <th>v2</th>\n",
              "    </tr>\n",
              "  </thead>\n",
              "  <tbody>\n",
              "    <tr>\n",
              "      <th>0</th>\n",
              "      <td>ham</td>\n",
              "      <td>Go until jurong point, crazy.. Available only ...</td>\n",
              "    </tr>\n",
              "    <tr>\n",
              "      <th>1</th>\n",
              "      <td>ham</td>\n",
              "      <td>Ok lar... Joking wif u oni...</td>\n",
              "    </tr>\n",
              "    <tr>\n",
              "      <th>2</th>\n",
              "      <td>spam</td>\n",
              "      <td>Free entry in 2 a wkly comp to win FA Cup fina...</td>\n",
              "    </tr>\n",
              "    <tr>\n",
              "      <th>3</th>\n",
              "      <td>ham</td>\n",
              "      <td>U dun say so early hor... U c already then say...</td>\n",
              "    </tr>\n",
              "    <tr>\n",
              "      <th>4</th>\n",
              "      <td>ham</td>\n",
              "      <td>Nah I don't think he goes to usf, he lives aro...</td>\n",
              "    </tr>\n",
              "  </tbody>\n",
              "</table>\n",
              "</div>\n",
              "      <button class=\"colab-df-convert\" onclick=\"convertToInteractive('df-3d5b836f-77b9-4663-895a-fbb5a9f70c44')\"\n",
              "              title=\"Convert this dataframe to an interactive table.\"\n",
              "              style=\"display:none;\">\n",
              "        \n",
              "  <svg xmlns=\"http://www.w3.org/2000/svg\" height=\"24px\"viewBox=\"0 0 24 24\"\n",
              "       width=\"24px\">\n",
              "    <path d=\"M0 0h24v24H0V0z\" fill=\"none\"/>\n",
              "    <path d=\"M18.56 5.44l.94 2.06.94-2.06 2.06-.94-2.06-.94-.94-2.06-.94 2.06-2.06.94zm-11 1L8.5 8.5l.94-2.06 2.06-.94-2.06-.94L8.5 2.5l-.94 2.06-2.06.94zm10 10l.94 2.06.94-2.06 2.06-.94-2.06-.94-.94-2.06-.94 2.06-2.06.94z\"/><path d=\"M17.41 7.96l-1.37-1.37c-.4-.4-.92-.59-1.43-.59-.52 0-1.04.2-1.43.59L10.3 9.45l-7.72 7.72c-.78.78-.78 2.05 0 2.83L4 21.41c.39.39.9.59 1.41.59.51 0 1.02-.2 1.41-.59l7.78-7.78 2.81-2.81c.8-.78.8-2.07 0-2.86zM5.41 20L4 18.59l7.72-7.72 1.47 1.35L5.41 20z\"/>\n",
              "  </svg>\n",
              "      </button>\n",
              "      \n",
              "  <style>\n",
              "    .colab-df-container {\n",
              "      display:flex;\n",
              "      flex-wrap:wrap;\n",
              "      gap: 12px;\n",
              "    }\n",
              "\n",
              "    .colab-df-convert {\n",
              "      background-color: #E8F0FE;\n",
              "      border: none;\n",
              "      border-radius: 50%;\n",
              "      cursor: pointer;\n",
              "      display: none;\n",
              "      fill: #1967D2;\n",
              "      height: 32px;\n",
              "      padding: 0 0 0 0;\n",
              "      width: 32px;\n",
              "    }\n",
              "\n",
              "    .colab-df-convert:hover {\n",
              "      background-color: #E2EBFA;\n",
              "      box-shadow: 0px 1px 2px rgba(60, 64, 67, 0.3), 0px 1px 3px 1px rgba(60, 64, 67, 0.15);\n",
              "      fill: #174EA6;\n",
              "    }\n",
              "\n",
              "    [theme=dark] .colab-df-convert {\n",
              "      background-color: #3B4455;\n",
              "      fill: #D2E3FC;\n",
              "    }\n",
              "\n",
              "    [theme=dark] .colab-df-convert:hover {\n",
              "      background-color: #434B5C;\n",
              "      box-shadow: 0px 1px 3px 1px rgba(0, 0, 0, 0.15);\n",
              "      filter: drop-shadow(0px 1px 2px rgba(0, 0, 0, 0.3));\n",
              "      fill: #FFFFFF;\n",
              "    }\n",
              "  </style>\n",
              "\n",
              "      <script>\n",
              "        const buttonEl =\n",
              "          document.querySelector('#df-3d5b836f-77b9-4663-895a-fbb5a9f70c44 button.colab-df-convert');\n",
              "        buttonEl.style.display =\n",
              "          google.colab.kernel.accessAllowed ? 'block' : 'none';\n",
              "\n",
              "        async function convertToInteractive(key) {\n",
              "          const element = document.querySelector('#df-3d5b836f-77b9-4663-895a-fbb5a9f70c44');\n",
              "          const dataTable =\n",
              "            await google.colab.kernel.invokeFunction('convertToInteractive',\n",
              "                                                     [key], {});\n",
              "          if (!dataTable) return;\n",
              "\n",
              "          const docLinkHtml = 'Like what you see? Visit the ' +\n",
              "            '<a target=\"_blank\" href=https://colab.research.google.com/notebooks/data_table.ipynb>data table notebook</a>'\n",
              "            + ' to learn more about interactive tables.';\n",
              "          element.innerHTML = '';\n",
              "          dataTable['output_type'] = 'display_data';\n",
              "          await google.colab.output.renderOutput(dataTable, element);\n",
              "          const docLink = document.createElement('div');\n",
              "          docLink.innerHTML = docLinkHtml;\n",
              "          element.appendChild(docLink);\n",
              "        }\n",
              "      </script>\n",
              "    </div>\n",
              "  </div>\n",
              "  "
            ]
          },
          "metadata": {},
          "execution_count": 8
        }
      ],
      "source": [
        "#Remove the unwanted columns\n",
        "data.drop(['Unnamed: 2','Unnamed: 3','Unnamed: 4'],axis=1,inplace=True)\n",
        "data.head()"
      ]
    },
    {
      "cell_type": "code",
      "execution_count": 9,
      "id": "aa1277a8",
      "metadata": {
        "colab": {
          "base_uri": "https://localhost:8080/",
          "height": 363
        },
        "id": "aa1277a8",
        "outputId": "5654e388-455f-46d4-e7ce-fd6c75135279"
      },
      "outputs": [
        {
          "output_type": "execute_result",
          "data": {
            "text/plain": [
              "  label                                               text\n",
              "0   ham  Go until jurong point, crazy.. Available only ...\n",
              "1   ham                      Ok lar... Joking wif u oni...\n",
              "2  spam  Free entry in 2 a wkly comp to win FA Cup fina...\n",
              "3   ham  U dun say so early hor... U c already then say...\n",
              "4   ham  Nah I don't think he goes to usf, he lives aro...\n",
              "5  spam  FreeMsg Hey there darling it's been 3 week's n...\n",
              "6   ham  Even my brother is not like to speak with me. ...\n",
              "7   ham  As per your request 'Melle Melle (Oru Minnamin...\n",
              "8  spam  WINNER!! As a valued network customer you have...\n",
              "9  spam  Had your mobile 11 months or more? U R entitle..."
            ],
            "text/html": [
              "\n",
              "  <div id=\"df-42998836-71d8-44d4-9bfe-d6960c125ec5\">\n",
              "    <div class=\"colab-df-container\">\n",
              "      <div>\n",
              "<style scoped>\n",
              "    .dataframe tbody tr th:only-of-type {\n",
              "        vertical-align: middle;\n",
              "    }\n",
              "\n",
              "    .dataframe tbody tr th {\n",
              "        vertical-align: top;\n",
              "    }\n",
              "\n",
              "    .dataframe thead th {\n",
              "        text-align: right;\n",
              "    }\n",
              "</style>\n",
              "<table border=\"1\" class=\"dataframe\">\n",
              "  <thead>\n",
              "    <tr style=\"text-align: right;\">\n",
              "      <th></th>\n",
              "      <th>label</th>\n",
              "      <th>text</th>\n",
              "    </tr>\n",
              "  </thead>\n",
              "  <tbody>\n",
              "    <tr>\n",
              "      <th>0</th>\n",
              "      <td>ham</td>\n",
              "      <td>Go until jurong point, crazy.. Available only ...</td>\n",
              "    </tr>\n",
              "    <tr>\n",
              "      <th>1</th>\n",
              "      <td>ham</td>\n",
              "      <td>Ok lar... Joking wif u oni...</td>\n",
              "    </tr>\n",
              "    <tr>\n",
              "      <th>2</th>\n",
              "      <td>spam</td>\n",
              "      <td>Free entry in 2 a wkly comp to win FA Cup fina...</td>\n",
              "    </tr>\n",
              "    <tr>\n",
              "      <th>3</th>\n",
              "      <td>ham</td>\n",
              "      <td>U dun say so early hor... U c already then say...</td>\n",
              "    </tr>\n",
              "    <tr>\n",
              "      <th>4</th>\n",
              "      <td>ham</td>\n",
              "      <td>Nah I don't think he goes to usf, he lives aro...</td>\n",
              "    </tr>\n",
              "    <tr>\n",
              "      <th>5</th>\n",
              "      <td>spam</td>\n",
              "      <td>FreeMsg Hey there darling it's been 3 week's n...</td>\n",
              "    </tr>\n",
              "    <tr>\n",
              "      <th>6</th>\n",
              "      <td>ham</td>\n",
              "      <td>Even my brother is not like to speak with me. ...</td>\n",
              "    </tr>\n",
              "    <tr>\n",
              "      <th>7</th>\n",
              "      <td>ham</td>\n",
              "      <td>As per your request 'Melle Melle (Oru Minnamin...</td>\n",
              "    </tr>\n",
              "    <tr>\n",
              "      <th>8</th>\n",
              "      <td>spam</td>\n",
              "      <td>WINNER!! As a valued network customer you have...</td>\n",
              "    </tr>\n",
              "    <tr>\n",
              "      <th>9</th>\n",
              "      <td>spam</td>\n",
              "      <td>Had your mobile 11 months or more? U R entitle...</td>\n",
              "    </tr>\n",
              "  </tbody>\n",
              "</table>\n",
              "</div>\n",
              "      <button class=\"colab-df-convert\" onclick=\"convertToInteractive('df-42998836-71d8-44d4-9bfe-d6960c125ec5')\"\n",
              "              title=\"Convert this dataframe to an interactive table.\"\n",
              "              style=\"display:none;\">\n",
              "        \n",
              "  <svg xmlns=\"http://www.w3.org/2000/svg\" height=\"24px\"viewBox=\"0 0 24 24\"\n",
              "       width=\"24px\">\n",
              "    <path d=\"M0 0h24v24H0V0z\" fill=\"none\"/>\n",
              "    <path d=\"M18.56 5.44l.94 2.06.94-2.06 2.06-.94-2.06-.94-.94-2.06-.94 2.06-2.06.94zm-11 1L8.5 8.5l.94-2.06 2.06-.94-2.06-.94L8.5 2.5l-.94 2.06-2.06.94zm10 10l.94 2.06.94-2.06 2.06-.94-2.06-.94-.94-2.06-.94 2.06-2.06.94z\"/><path d=\"M17.41 7.96l-1.37-1.37c-.4-.4-.92-.59-1.43-.59-.52 0-1.04.2-1.43.59L10.3 9.45l-7.72 7.72c-.78.78-.78 2.05 0 2.83L4 21.41c.39.39.9.59 1.41.59.51 0 1.02-.2 1.41-.59l7.78-7.78 2.81-2.81c.8-.78.8-2.07 0-2.86zM5.41 20L4 18.59l7.72-7.72 1.47 1.35L5.41 20z\"/>\n",
              "  </svg>\n",
              "      </button>\n",
              "      \n",
              "  <style>\n",
              "    .colab-df-container {\n",
              "      display:flex;\n",
              "      flex-wrap:wrap;\n",
              "      gap: 12px;\n",
              "    }\n",
              "\n",
              "    .colab-df-convert {\n",
              "      background-color: #E8F0FE;\n",
              "      border: none;\n",
              "      border-radius: 50%;\n",
              "      cursor: pointer;\n",
              "      display: none;\n",
              "      fill: #1967D2;\n",
              "      height: 32px;\n",
              "      padding: 0 0 0 0;\n",
              "      width: 32px;\n",
              "    }\n",
              "\n",
              "    .colab-df-convert:hover {\n",
              "      background-color: #E2EBFA;\n",
              "      box-shadow: 0px 1px 2px rgba(60, 64, 67, 0.3), 0px 1px 3px 1px rgba(60, 64, 67, 0.15);\n",
              "      fill: #174EA6;\n",
              "    }\n",
              "\n",
              "    [theme=dark] .colab-df-convert {\n",
              "      background-color: #3B4455;\n",
              "      fill: #D2E3FC;\n",
              "    }\n",
              "\n",
              "    [theme=dark] .colab-df-convert:hover {\n",
              "      background-color: #434B5C;\n",
              "      box-shadow: 0px 1px 3px 1px rgba(0, 0, 0, 0.15);\n",
              "      filter: drop-shadow(0px 1px 2px rgba(0, 0, 0, 0.3));\n",
              "      fill: #FFFFFF;\n",
              "    }\n",
              "  </style>\n",
              "\n",
              "      <script>\n",
              "        const buttonEl =\n",
              "          document.querySelector('#df-42998836-71d8-44d4-9bfe-d6960c125ec5 button.colab-df-convert');\n",
              "        buttonEl.style.display =\n",
              "          google.colab.kernel.accessAllowed ? 'block' : 'none';\n",
              "\n",
              "        async function convertToInteractive(key) {\n",
              "          const element = document.querySelector('#df-42998836-71d8-44d4-9bfe-d6960c125ec5');\n",
              "          const dataTable =\n",
              "            await google.colab.kernel.invokeFunction('convertToInteractive',\n",
              "                                                     [key], {});\n",
              "          if (!dataTable) return;\n",
              "\n",
              "          const docLinkHtml = 'Like what you see? Visit the ' +\n",
              "            '<a target=\"_blank\" href=https://colab.research.google.com/notebooks/data_table.ipynb>data table notebook</a>'\n",
              "            + ' to learn more about interactive tables.';\n",
              "          element.innerHTML = '';\n",
              "          dataTable['output_type'] = 'display_data';\n",
              "          await google.colab.output.renderOutput(dataTable, element);\n",
              "          const docLink = document.createElement('div');\n",
              "          docLink.innerHTML = docLinkHtml;\n",
              "          element.appendChild(docLink);\n",
              "        }\n",
              "      </script>\n",
              "    </div>\n",
              "  </div>\n",
              "  "
            ]
          },
          "metadata": {},
          "execution_count": 9
        }
      ],
      "source": [
        "#Rename the columns\n",
        "data.rename(columns={'v1':'label','v2':'text'},inplace=True)\n",
        "data[['label','text']][:10]"
      ]
    },
    {
      "cell_type": "code",
      "execution_count": 10,
      "id": "8cdb87df",
      "metadata": {
        "colab": {
          "base_uri": "https://localhost:8080/",
          "height": 378
        },
        "id": "8cdb87df",
        "outputId": "8d4e1e8e-364c-4273-fb98-ce3555160211"
      },
      "outputs": [
        {
          "output_type": "display_data",
          "data": {
            "text/plain": [
              "<Figure size 1296x432 with 1 Axes>"
            ],
            "image/png": "[encoded data removed]"
          },
          "metadata": {}
        }
      ],
      "source": [
        "#to visuaize the label percentage in the train dataset\n",
        "label=data['label'].value_counts()\n",
        "#to visualize the above information in the pie chart\n",
        "plt.figure(figsize=(18,6))\n",
        "plt.pie(label,labels=['ham','spam'],colors=['c','m'],wedgeprops={'edgecolor':'black'},textprops={'fontsize': 14},startangle=30,autopct='%1.1f%%',explode=[0,0.2],shadow=True)\n",
        "#set the title name with fontsize \n",
        "plt.title(\"The label percentage in dataset\",fontsize=20)\n",
        "plt.show()"
      ]
    },
    {
      "cell_type": "code",
      "execution_count": 11,
      "id": "b62ec33a",
      "metadata": {
        "id": "b62ec33a"
      },
      "outputs": [],
      "source": [
        "#Create the function and remove the punctuation\n",
        "def remove_punctuation(text):\n",
        "    for punctuation in string.punctuation:\n",
        "        text=text.replace(punctuation,'')\n",
        "    return text\n",
        "#And apply function to the train dataset\n",
        "data['text']=data['text'].apply(remove_punctuation)"
      ]
    },
    {
      "cell_type": "code",
      "execution_count": 12,
      "id": "a2c738b3",
      "metadata": {
        "colab": {
          "base_uri": "https://localhost:8080/"
        },
        "id": "a2c738b3",
        "outputId": "03d35903-4986-4f3b-dc13-c9fc5ec261df"
      },
      "outputs": [
        {
          "output_type": "stream",
          "name": "stderr",
          "text": [
            "[nltk_data] Downloading package stopwords to /root/nltk_data...\n",
            "[nltk_data]   Unzipping corpora/stopwords.zip.\n"
          ]
        }
      ],
      "source": [
        "#create the remove the stopwords\n",
        "import nltk\n",
        "nltk.download('stopwords')\n",
        "stop_words_list=nltk.corpus.stopwords.words('english')\n",
        "stop_words_list.remove('no')\n",
        "stop_words_list.remove('not')"
      ]
    },
    {
      "cell_type": "code",
      "execution_count": 13,
      "id": "e53ef8ee",
      "metadata": {
        "id": "e53ef8ee"
      },
      "outputs": [],
      "source": [
        "#install the tokeninzer\n",
        "tokenizer = ToktokTokenizer()\n",
        "#Create function to remove the stopwords\n",
        "def remove_stopwords(text,is_lower_case=True):\n",
        "    tokens=tokenizer.tokenize(text)\n",
        "    tokens=[token.strip() for token in tokens]\n",
        "    if is_lower_case:\n",
        "        filterd_tokens=[token for token in tokens if token not in stop_words_list]\n",
        "    else:\n",
        "        filterd_tokens=[token for token in tokens if token.lower() not in stop_words_list]\n",
        "    filterd_text=' '.join(filterd_tokens)\n",
        "    return filterd_text\n",
        "data['text']=data['text'].apply(remove_stopwords)"
      ]
    },
    {
      "cell_type": "code",
      "execution_count": 14,
      "id": "74827245",
      "metadata": {
        "colab": {
          "base_uri": "https://localhost:8080/",
          "height": 363
        },
        "id": "74827245",
        "outputId": "0834b4c1-0cc2-44a3-a1ed-d81d553ecfe2"
      },
      "outputs": [
        {
          "output_type": "execute_result",
          "data": {
            "text/plain": [
              "  label                                               text\n",
              "0   ham  Go jurong point crazy Available bugis n great ...\n",
              "1   ham                            Ok lar Joking wif u oni\n",
              "2  spam  Free entry 2 wkly comp win FA Cup final tkts 2...\n",
              "3   ham                U dun say early hor U c already say\n",
              "4   ham      Nah I dont think goes usf lives around though\n",
              "5  spam  FreeMsg Hey darling 3 weeks no word back Id li...\n",
              "6   ham  Even brother not like speak They treat like ai...\n",
              "7   ham  As per request Melle Melle Oru Minnaminunginte...\n",
              "8  spam  WINNER As valued network customer selected rec...\n",
              "9  spam  Had mobile 11 months U R entitled Update lates..."
            ],
            "text/html": [
              "\n",
              "  <div id=\"df-a78360d3-5606-47ad-8d59-5e7de323f925\">\n",
              "    <div class=\"colab-df-container\">\n",
              "      <div>\n",
              "<style scoped>\n",
              "    .dataframe tbody tr th:only-of-type {\n",
              "        vertical-align: middle;\n",
              "    }\n",
              "\n",
              "    .dataframe tbody tr th {\n",
              "        vertical-align: top;\n",
              "    }\n",
              "\n",
              "    .dataframe thead th {\n",
              "        text-align: right;\n",
              "    }\n",
              "</style>\n",
              "<table border=\"1\" class=\"dataframe\">\n",
              "  <thead>\n",
              "    <tr style=\"text-align: right;\">\n",
              "      <th></th>\n",
              "      <th>label</th>\n",
              "      <th>text</th>\n",
              "    </tr>\n",
              "  </thead>\n",
              "  <tbody>\n",
              "    <tr>\n",
              "      <th>0</th>\n",
              "      <td>ham</td>\n",
              "      <td>Go jurong point crazy Available bugis n great ...</td>\n",
              "    </tr>\n",
              "    <tr>\n",
              "      <th>1</th>\n",
              "      <td>ham</td>\n",
              "      <td>Ok lar Joking wif u oni</td>\n",
              "    </tr>\n",
              "    <tr>\n",
              "      <th>2</th>\n",
              "      <td>spam</td>\n",
              "      <td>Free entry 2 wkly comp win FA Cup final tkts 2...</td>\n",
              "    </tr>\n",
              "    <tr>\n",
              "      <th>3</th>\n",
              "      <td>ham</td>\n",
              "      <td>U dun say early hor U c already say</td>\n",
              "    </tr>\n",
              "    <tr>\n",
              "      <th>4</th>\n",
              "      <td>ham</td>\n",
              "      <td>Nah I dont think goes usf lives around though</td>\n",
              "    </tr>\n",
              "    <tr>\n",
              "      <th>5</th>\n",
              "      <td>spam</td>\n",
              "      <td>FreeMsg Hey darling 3 weeks no word back Id li...</td>\n",
              "    </tr>\n",
              "    <tr>\n",
              "      <th>6</th>\n",
              "      <td>ham</td>\n",
              "      <td>Even brother not like speak They treat like ai...</td>\n",
              "    </tr>\n",
              "    <tr>\n",
              "      <th>7</th>\n",
              "      <td>ham</td>\n",
              "      <td>As per request Melle Melle Oru Minnaminunginte...</td>\n",
              "    </tr>\n",
              "    <tr>\n",
              "      <th>8</th>\n",
              "      <td>spam</td>\n",
              "      <td>WINNER As valued network customer selected rec...</td>\n",
              "    </tr>\n",
              "    <tr>\n",
              "      <th>9</th>\n",
              "      <td>spam</td>\n",
              "      <td>Had mobile 11 months U R entitled Update lates...</td>\n",
              "    </tr>\n",
              "  </tbody>\n",
              "</table>\n",
              "</div>\n",
              "      <button class=\"colab-df-convert\" onclick=\"convertToInteractive('df-a78360d3-5606-47ad-8d59-5e7de323f925')\"\n",
              "              title=\"Convert this dataframe to an interactive table.\"\n",
              "              style=\"display:none;\">\n",
              "        \n",
              "  <svg xmlns=\"http://www.w3.org/2000/svg\" height=\"24px\"viewBox=\"0 0 24 24\"\n",
              "       width=\"24px\">\n",
              "    <path d=\"M0 0h24v24H0V0z\" fill=\"none\"/>\n",
              "    <path d=\"M18.56 5.44l.94 2.06.94-2.06 2.06-.94-2.06-.94-.94-2.06-.94 2.06-2.06.94zm-11 1L8.5 8.5l.94-2.06 2.06-.94-2.06-.94L8.5 2.5l-.94 2.06-2.06.94zm10 10l.94 2.06.94-2.06 2.06-.94-2.06-.94-.94-2.06-.94 2.06-2.06.94z\"/><path d=\"M17.41 7.96l-1.37-1.37c-.4-.4-.92-.59-1.43-.59-.52 0-1.04.2-1.43.59L10.3 9.45l-7.72 7.72c-.78.78-.78 2.05 0 2.83L4 21.41c.39.39.9.59 1.41.59.51 0 1.02-.2 1.41-.59l7.78-7.78 2.81-2.81c.8-.78.8-2.07 0-2.86zM5.41 20L4 18.59l7.72-7.72 1.47 1.35L5.41 20z\"/>\n",
              "  </svg>\n",
              "      </button>\n",
              "      \n",
              "  <style>\n",
              "    .colab-df-container {\n",
              "      display:flex;\n",
              "      flex-wrap:wrap;\n",
              "      gap: 12px;\n",
              "    }\n",
              "\n",
              "    .colab-df-convert {\n",
              "      background-color: #E8F0FE;\n",
              "      border: none;\n",
              "      border-radius: 50%;\n",
              "      cursor: pointer;\n",
              "      display: none;\n",
              "      fill: #1967D2;\n",
              "      height: 32px;\n",
              "      padding: 0 0 0 0;\n",
              "      width: 32px;\n",
              "    }\n",
              "\n",
              "    .colab-df-convert:hover {\n",
              "      background-color: #E2EBFA;\n",
              "      box-shadow: 0px 1px 2px rgba(60, 64, 67, 0.3), 0px 1px 3px 1px rgba(60, 64, 67, 0.15);\n",
              "      fill: #174EA6;\n",
              "    }\n",
              "\n",
              "    [theme=dark] .colab-df-convert {\n",
              "      background-color: #3B4455;\n",
              "      fill: #D2E3FC;\n",
              "    }\n",
              "\n",
              "    [theme=dark] .colab-df-convert:hover {\n",
              "      background-color: #434B5C;\n",
              "      box-shadow: 0px 1px 3px 1px rgba(0, 0, 0, 0.15);\n",
              "      filter: drop-shadow(0px 1px 2px rgba(0, 0, 0, 0.3));\n",
              "      fill: #FFFFFF;\n",
              "    }\n",
              "  </style>\n",
              "\n",
              "      <script>\n",
              "        const buttonEl =\n",
              "          document.querySelector('#df-a78360d3-5606-47ad-8d59-5e7de323f925 button.colab-df-convert');\n",
              "        buttonEl.style.display =\n",
              "          google.colab.kernel.accessAllowed ? 'block' : 'none';\n",
              "\n",
              "        async function convertToInteractive(key) {\n",
              "          const element = document.querySelector('#df-a78360d3-5606-47ad-8d59-5e7de323f925');\n",
              "          const dataTable =\n",
              "            await google.colab.kernel.invokeFunction('convertToInteractive',\n",
              "                                                     [key], {});\n",
              "          if (!dataTable) return;\n",
              "\n",
              "          const docLinkHtml = 'Like what you see? Visit the ' +\n",
              "            '<a target=\"_blank\" href=https://colab.research.google.com/notebooks/data_table.ipynb>data table notebook</a>'\n",
              "            + ' to learn more about interactive tables.';\n",
              "          element.innerHTML = '';\n",
              "          dataTable['output_type'] = 'display_data';\n",
              "          await google.colab.output.renderOutput(dataTable, element);\n",
              "          const docLink = document.createElement('div');\n",
              "          docLink.innerHTML = docLinkHtml;\n",
              "          element.appendChild(docLink);\n",
              "        }\n",
              "      </script>\n",
              "    </div>\n",
              "  </div>\n",
              "  "
            ]
          },
          "metadata": {},
          "execution_count": 14
        }
      ],
      "source": [
        "#remove the special characters\n",
        "def remove_special_characters(text):\n",
        "    text=re.sub('[^a-zA-z0-9\\s]','',text)\n",
        "    return text\n",
        "data['text']=data['text'].apply(remove_special_characters)\n",
        "data[['label','text']][:10]"
      ]
    },
    {
      "cell_type": "code",
      "execution_count": 15,
      "id": "8c1bfdba",
      "metadata": {
        "id": "8c1bfdba"
      },
      "outputs": [],
      "source": [
        "#Remove html patternst\n",
        "def remove_html(text):\n",
        "    html_pattran=re.compile('<.*?>')\n",
        "    return html_pattran.sub(r' ',text)\n",
        "#And apply the above function to the train data\n",
        "data['text']=data['text'].apply(remove_html)"
      ]
    },
    {
      "cell_type": "code",
      "execution_count": 16,
      "id": "3b67474a",
      "metadata": {
        "id": "3b67474a"
      },
      "outputs": [],
      "source": [
        "#Remove the html url from the train dataset\n",
        "def remove_url(text):\n",
        "    url=re.compile(r'https?://\\S+|www\\.\\S+')\n",
        "    return url.sub(r' ',text)\n",
        "#And apply to the train dataset\n",
        "data['text']=data['text'].apply(remove_url)"
      ]
    },
    {
      "cell_type": "code",
      "execution_count": 17,
      "id": "6f0c3333",
      "metadata": {
        "id": "6f0c3333"
      },
      "outputs": [],
      "source": [
        "#Remove the numbers in the dataset\n",
        "def remove_numbers(text):\n",
        "    text=''.join([i for i in text if  not i.isdigit()])\n",
        "    return text\n",
        "#And apply the above function to the train data\n",
        "data['text']=data['text'].apply(remove_numbers)"
      ]
    },
    {
      "cell_type": "code",
      "execution_count": 18,
      "id": "a71911f7",
      "metadata": {
        "id": "a71911f7"
      },
      "outputs": [],
      "source": [
        "def cleanse(word):\n",
        "    rx=re.compile(r'\\D*\\d')\n",
        "    if rx.match(word):\n",
        "        return ' '\n",
        "    return word\n",
        "#Remove the alpha numaric\n",
        "def alpha_numeric(strings):\n",
        "    nstrings=[\" \".join(filter(None,(cleanse(word) for word in string.split()))) for string in strings.split()]\n",
        "    str1=\" \".join(nstrings)\n",
        "    return str1\n",
        "#Apply to the above function to the train dataset\n",
        "data['text']=data['text'].apply(alpha_numeric)"
      ]
    },
    {
      "cell_type": "code",
      "execution_count": 19,
      "id": "dce8fcf8",
      "metadata": {
        "id": "dce8fcf8"
      },
      "outputs": [],
      "source": [
        "#lemmatizer\n",
        "def lemmatize(text):\n",
        "    text=nlp(text)\n",
        "    text=\" \".join([word.lemma_ if word.lemma_!='-PRON-' else word for word in text])\n",
        "    return text\n",
        "#Apply the above function to the train dataset\n",
        "data['text']=data['text'].apply(lemmatize)"
      ]
    },
    {
      "cell_type": "code",
      "execution_count": 20,
      "id": "a0c360d2",
      "metadata": {
        "colab": {
          "base_uri": "https://localhost:8080/",
          "height": 363
        },
        "id": "a0c360d2",
        "outputId": "47dfcf24-6172-4659-f983-5424668a9b1f"
      },
      "outputs": [
        {
          "output_type": "execute_result",
          "data": {
            "text/plain": [
              "  label                                               text\n",
              "0   ham  go jurong point crazy Available bugis n great ...\n",
              "1   ham                            ok lar Joking wif u oni\n",
              "2  spam  free entry wkly comp win FA Cup final tkts st ...\n",
              "3   ham                U dun say early hor U c already say\n",
              "4   ham       Nah I do not think go usf live around though\n",
              "5  spam  FreeMsg hey darle week no word back I d like f...\n",
              "6   ham  even brother not like speak they treat like ai...\n",
              "7   ham  as per request Melle Melle Oru Minnaminunginte...\n",
              "8  spam  WINNER as value network customer select receiv...\n",
              "9  spam  have mobile month U r entitle Update late colo..."
            ],
            "text/html": [
              "\n",
              "  <div id=\"df-6d511063-8a31-45e1-a35a-8079ef846c68\">\n",
              "    <div class=\"colab-df-container\">\n",
              "      <div>\n",
              "<style scoped>\n",
              "    .dataframe tbody tr th:only-of-type {\n",
              "        vertical-align: middle;\n",
              "    }\n",
              "\n",
              "    .dataframe tbody tr th {\n",
              "        vertical-align: top;\n",
              "    }\n",
              "\n",
              "    .dataframe thead th {\n",
              "        text-align: right;\n",
              "    }\n",
              "</style>\n",
              "<table border=\"1\" class=\"dataframe\">\n",
              "  <thead>\n",
              "    <tr style=\"text-align: right;\">\n",
              "      <th></th>\n",
              "      <th>label</th>\n",
              "      <th>text</th>\n",
              "    </tr>\n",
              "  </thead>\n",
              "  <tbody>\n",
              "    <tr>\n",
              "      <th>0</th>\n",
              "      <td>ham</td>\n",
              "      <td>go jurong point crazy Available bugis n great ...</td>\n",
              "    </tr>\n",
              "    <tr>\n",
              "      <th>1</th>\n",
              "      <td>ham</td>\n",
              "      <td>ok lar Joking wif u oni</td>\n",
              "    </tr>\n",
              "    <tr>\n",
              "      <th>2</th>\n",
              "      <td>spam</td>\n",
              "      <td>free entry wkly comp win FA Cup final tkts st ...</td>\n",
              "    </tr>\n",
              "    <tr>\n",
              "      <th>3</th>\n",
              "      <td>ham</td>\n",
              "      <td>U dun say early hor U c already say</td>\n",
              "    </tr>\n",
              "    <tr>\n",
              "      <th>4</th>\n",
              "      <td>ham</td>\n",
              "      <td>Nah I do not think go usf live around though</td>\n",
              "    </tr>\n",
              "    <tr>\n",
              "      <th>5</th>\n",
              "      <td>spam</td>\n",
              "      <td>FreeMsg hey darle week no word back I d like f...</td>\n",
              "    </tr>\n",
              "    <tr>\n",
              "      <th>6</th>\n",
              "      <td>ham</td>\n",
              "      <td>even brother not like speak they treat like ai...</td>\n",
              "    </tr>\n",
              "    <tr>\n",
              "      <th>7</th>\n",
              "      <td>ham</td>\n",
              "      <td>as per request Melle Melle Oru Minnaminunginte...</td>\n",
              "    </tr>\n",
              "    <tr>\n",
              "      <th>8</th>\n",
              "      <td>spam</td>\n",
              "      <td>WINNER as value network customer select receiv...</td>\n",
              "    </tr>\n",
              "    <tr>\n",
              "      <th>9</th>\n",
              "      <td>spam</td>\n",
              "      <td>have mobile month U r entitle Update late colo...</td>\n",
              "    </tr>\n",
              "  </tbody>\n",
              "</table>\n",
              "</div>\n",
              "      <button class=\"colab-df-convert\" onclick=\"convertToInteractive('df-6d511063-8a31-45e1-a35a-8079ef846c68')\"\n",
              "              title=\"Convert this dataframe to an interactive table.\"\n",
              "              style=\"display:none;\">\n",
              "        \n",
              "  <svg xmlns=\"http://www.w3.org/2000/svg\" height=\"24px\"viewBox=\"0 0 24 24\"\n",
              "       width=\"24px\">\n",
              "    <path d=\"M0 0h24v24H0V0z\" fill=\"none\"/>\n",
              "    <path d=\"M18.56 5.44l.94 2.06.94-2.06 2.06-.94-2.06-.94-.94-2.06-.94 2.06-2.06.94zm-11 1L8.5 8.5l.94-2.06 2.06-.94-2.06-.94L8.5 2.5l-.94 2.06-2.06.94zm10 10l.94 2.06.94-2.06 2.06-.94-2.06-.94-.94-2.06-.94 2.06-2.06.94z\"/><path d=\"M17.41 7.96l-1.37-1.37c-.4-.4-.92-.59-1.43-.59-.52 0-1.04.2-1.43.59L10.3 9.45l-7.72 7.72c-.78.78-.78 2.05 0 2.83L4 21.41c.39.39.9.59 1.41.59.51 0 1.02-.2 1.41-.59l7.78-7.78 2.81-2.81c.8-.78.8-2.07 0-2.86zM5.41 20L4 18.59l7.72-7.72 1.47 1.35L5.41 20z\"/>\n",
              "  </svg>\n",
              "      </button>\n",
              "      \n",
              "  <style>\n",
              "    .colab-df-container {\n",
              "      display:flex;\n",
              "      flex-wrap:wrap;\n",
              "      gap: 12px;\n",
              "    }\n",
              "\n",
              "    .colab-df-convert {\n",
              "      background-color: #E8F0FE;\n",
              "      border: none;\n",
              "      border-radius: 50%;\n",
              "      cursor: pointer;\n",
              "      display: none;\n",
              "      fill: #1967D2;\n",
              "      height: 32px;\n",
              "      padding: 0 0 0 0;\n",
              "      width: 32px;\n",
              "    }\n",
              "\n",
              "    .colab-df-convert:hover {\n",
              "      background-color: #E2EBFA;\n",
              "      box-shadow: 0px 1px 2px rgba(60, 64, 67, 0.3), 0px 1px 3px 1px rgba(60, 64, 67, 0.15);\n",
              "      fill: #174EA6;\n",
              "    }\n",
              "\n",
              "    [theme=dark] .colab-df-convert {\n",
              "      background-color: #3B4455;\n",
              "      fill: #D2E3FC;\n",
              "    }\n",
              "\n",
              "    [theme=dark] .colab-df-convert:hover {\n",
              "      background-color: #434B5C;\n",
              "      box-shadow: 0px 1px 3px 1px rgba(0, 0, 0, 0.15);\n",
              "      filter: drop-shadow(0px 1px 2px rgba(0, 0, 0, 0.3));\n",
              "      fill: #FFFFFF;\n",
              "    }\n",
              "  </style>\n",
              "\n",
              "      <script>\n",
              "        const buttonEl =\n",
              "          document.querySelector('#df-6d511063-8a31-45e1-a35a-8079ef846c68 button.colab-df-convert');\n",
              "        buttonEl.style.display =\n",
              "          google.colab.kernel.accessAllowed ? 'block' : 'none';\n",
              "\n",
              "        async function convertToInteractive(key) {\n",
              "          const element = document.querySelector('#df-6d511063-8a31-45e1-a35a-8079ef846c68');\n",
              "          const dataTable =\n",
              "            await google.colab.kernel.invokeFunction('convertToInteractive',\n",
              "                                                     [key], {});\n",
              "          if (!dataTable) return;\n",
              "\n",
              "          const docLinkHtml = 'Like what you see? Visit the ' +\n",
              "            '<a target=\"_blank\" href=https://colab.research.google.com/notebooks/data_table.ipynb>data table notebook</a>'\n",
              "            + ' to learn more about interactive tables.';\n",
              "          element.innerHTML = '';\n",
              "          dataTable['output_type'] = 'display_data';\n",
              "          await google.colab.output.renderOutput(dataTable, element);\n",
              "          const docLink = document.createElement('div');\n",
              "          docLink.innerHTML = docLinkHtml;\n",
              "          element.appendChild(docLink);\n",
              "        }\n",
              "      </script>\n",
              "    </div>\n",
              "  </div>\n",
              "  "
            ]
          },
          "metadata": {},
          "execution_count": 20
        }
      ],
      "source": [
        "data[['label','text']][:10]"
      ]
    },
    {
      "cell_type": "code",
      "execution_count": 21,
      "id": "ebe51d87",
      "metadata": {
        "colab": {
          "base_uri": "https://localhost:8080/",
          "height": 38
        },
        "id": "ebe51d87",
        "outputId": "3c115d24-7c33-4dca-bbea-7759fab6598b"
      },
      "outputs": [
        {
          "output_type": "execute_result",
          "data": {
            "text/plain": [
              "'six chance win cash from pound txt CSH send Cost pday day TsandCs apply Reply hl info'"
            ],
            "application/vnd.google.colaboratory.intrinsic+json": {
              "type": "string"
            }
          },
          "metadata": {},
          "execution_count": 21
        }
      ],
      "source": [
        "data['text'][11]"
      ]
    },
    {
      "cell_type": "markdown",
      "id": "47335c25",
      "metadata": {
        "id": "47335c25"
      },
      "source": [
        "# Modeling"
      ]
    },
    {
      "cell_type": "code",
      "execution_count": 22,
      "id": "e3799fed",
      "metadata": {
        "id": "e3799fed"
      },
      "outputs": [],
      "source": [
        "#Divided the data into X and y\n",
        "X=data['text'].values\n",
        "y=data['label'].values"
      ]
    },
    {
      "cell_type": "code",
      "execution_count": 23,
      "id": "bd25dd8f",
      "metadata": {
        "id": "bd25dd8f"
      },
      "outputs": [],
      "source": [
        "#Install the TfidfVectorizer for covert the categorical data to array\n",
        "vector=TfidfVectorizer()\n",
        "vector.fit(X)\n",
        "X=vector.transform(X)"
      ]
    },
    {
      "cell_type": "code",
      "execution_count": 24,
      "id": "a85fe597",
      "metadata": {
        "id": "a85fe597"
      },
      "outputs": [],
      "source": [
        "#Divided the data into train_test and use 30% used for testing\n",
        "X_train,X_test,y_train,y_test=train_test_split(X,y,test_size=0.3,random_state=42)"
      ]
    },
    {
      "cell_type": "markdown",
      "id": "f697d895",
      "metadata": {
        "id": "f697d895"
      },
      "source": [
        "# LogisticRegression"
      ]
    },
    {
      "cell_type": "code",
      "execution_count": 25,
      "id": "42abe4b1",
      "metadata": {
        "colab": {
          "base_uri": "https://localhost:8080/"
        },
        "id": "42abe4b1",
        "outputId": "3eb3deeb-f7f9-438f-e033-bea053e7172e"
      },
      "outputs": [
        {
          "output_type": "execute_result",
          "data": {
            "text/plain": [
              "LogisticRegression()"
            ]
          },
          "metadata": {},
          "execution_count": 25
        }
      ],
      "source": [
        "#Install the logisticregression model\n",
        "logistic=LogisticRegression()\n",
        "#Let's fit the train data\n",
        "logistic.fit(X_train,y_train)"
      ]
    },
    {
      "cell_type": "code",
      "execution_count": 26,
      "id": "66fb167e",
      "metadata": {
        "colab": {
          "base_uri": "https://localhost:8080/"
        },
        "id": "66fb167e",
        "outputId": "ffa501e2-1ead-4439-e016-967709fee8ad"
      },
      "outputs": [
        {
          "output_type": "execute_result",
          "data": {
            "text/plain": [
              "array(['ham', 'ham', 'ham', ..., 'ham', 'ham', 'ham'], dtype=object)"
            ]
          },
          "metadata": {},
          "execution_count": 26
        }
      ],
      "source": [
        "#Prediction to the test data\n",
        "logistic_pred=logistic.predict(X_test)\n",
        "logistic_pred"
      ]
    },
    {
      "cell_type": "code",
      "execution_count": 27,
      "id": "7a859ea2",
      "metadata": {
        "colab": {
          "base_uri": "https://localhost:8080/"
        },
        "id": "7a859ea2",
        "outputId": "a084089e-2727-42ba-f28d-6d95fbddedf6"
      },
      "outputs": [
        {
          "output_type": "stream",
          "name": "stdout",
          "text": [
            "The Logisticregression model test score is 94.62\n",
            "The Logisticregression model train scores is 96.82\n",
            "The logisticRegression accuracy_score 94.62\n"
          ]
        }
      ],
      "source": [
        "#Check the test score and train score to the model\n",
        "print(f'The Logisticregression model test score is {logistic.score(X_test,y_test)*100:.2f}')\n",
        "#Train score for the data\n",
        "print(f'The Logisticregression model train scores is {logistic.score(X_train,y_train)*100:.2f}')\n",
        "#Check the accuracy_score to the model\n",
        "print(f'The logisticRegression accuracy_score {accuracy_score(y_test,logistic_pred)*100:.2f}')"
      ]
    },
    {
      "cell_type": "markdown",
      "id": "32790de2",
      "metadata": {
        "id": "32790de2"
      },
      "source": [
        "# Classification_report and Confusion_matrix"
      ]
    },
    {
      "cell_type": "code",
      "execution_count": 28,
      "id": "844cc175",
      "metadata": {
        "colab": {
          "base_uri": "https://localhost:8080/",
          "height": 439
        },
        "id": "844cc175",
        "outputId": "4bd3252f-ebe9-4385-b6bb-b0453aa5574b"
      },
      "outputs": [
        {
          "output_type": "stream",
          "name": "stdout",
          "text": [
            "              precision    recall  f1-score   support\n",
            "\n",
            "         ham       0.94      1.00      0.97      1453\n",
            "        spam       0.97      0.61      0.75       219\n",
            "\n",
            "    accuracy                           0.95      1672\n",
            "   macro avg       0.96      0.80      0.86      1672\n",
            "weighted avg       0.95      0.95      0.94      1672\n",
            "\n"
          ]
        },
        {
          "output_type": "execute_result",
          "data": {
            "text/plain": [
              "<matplotlib.axes._subplots.AxesSubplot at 0x7f2b0b84b250>"
            ]
          },
          "metadata": {},
          "execution_count": 28
        },
        {
          "output_type": "display_data",
          "data": {
            "text/plain": [
              "<Figure size 432x288 with 2 Axes>"
            ],
            "image/png": "[encoded data removed]"
          },
          "metadata": {
            "needs_background": "light"
          }
        }
      ],
      "source": [
        "#Classification report\n",
        "print(classification_report(y_test,logistic_pred))\n",
        "#confusion_matrix\n",
        "cn=confusion_matrix(y_test,logistic_pred)\n",
        "sns.heatmap(cn,annot=True,cmap=\"cubehelix\",xticklabels=['ham','spam'],yticklabels=['ham','spam'])"
      ]
    },
    {
      "cell_type": "markdown",
      "id": "999bee4b",
      "metadata": {
        "id": "999bee4b"
      },
      "source": [
        "# DecisionTreeClassifier"
      ]
    },
    {
      "cell_type": "code",
      "execution_count": 29,
      "id": "142fc6ed",
      "metadata": {
        "colab": {
          "base_uri": "https://localhost:8080/"
        },
        "id": "142fc6ed",
        "outputId": "79b6d1bc-9070-4d1a-b991-5a8974781eac"
      },
      "outputs": [
        {
          "output_type": "execute_result",
          "data": {
            "text/plain": [
              "DecisionTreeClassifier()"
            ]
          },
          "metadata": {},
          "execution_count": 29
        }
      ],
      "source": [
        "#Import the DecisionTreeClassifier from sklean library\n",
        "from sklearn.tree import DecisionTreeClassifier\n",
        "#install the library\n",
        "tree=DecisionTreeClassifier()\n",
        "#Fit the train data to the model\n",
        "tree.fit(X_train,y_train)"
      ]
    },
    {
      "cell_type": "code",
      "execution_count": 30,
      "id": "9fb94fed",
      "metadata": {
        "colab": {
          "base_uri": "https://localhost:8080/"
        },
        "id": "9fb94fed",
        "outputId": "14a5bca2-d34d-47fc-eae6-96d727d3ec3c"
      },
      "outputs": [
        {
          "output_type": "execute_result",
          "data": {
            "text/plain": [
              "array(['ham', 'ham', 'ham', ..., 'ham', 'ham', 'ham'], dtype=object)"
            ]
          },
          "metadata": {},
          "execution_count": 30
        }
      ],
      "source": [
        "#DecisionTreeClassifier Testdata prediction\n",
        "tree_pred=tree.predict(X_test)\n",
        "tree_pred"
      ]
    },
    {
      "cell_type": "code",
      "execution_count": 31,
      "id": "3b7a9707",
      "metadata": {
        "colab": {
          "base_uri": "https://localhost:8080/"
        },
        "id": "3b7a9707",
        "outputId": "8a880aa5-dd6f-4a55-bef4-6263295b29f4"
      },
      "outputs": [
        {
          "output_type": "stream",
          "name": "stdout",
          "text": [
            "The DecisionTreeClassifier model test score is 95.69\n",
            "The DecisionTreeClassifier model train scores is 100.00\n",
            "The DecisionTreeClassifier accuracy_score 95.69\n"
          ]
        }
      ],
      "source": [
        "#Check the test score and train score to the model\n",
        "print(f'The DecisionTreeClassifier model test score is {tree.score(X_test,y_test)*100:.2f}')\n",
        "#Train score for the data\n",
        "print(f'The DecisionTreeClassifier model train scores is {tree.score(X_train,y_train)*100:.2f}')\n",
        "#Check the accuracy_score to the model\n",
        "print(f'The DecisionTreeClassifier accuracy_score {accuracy_score(y_test,tree_pred)*100:.2f}')"
      ]
    },
    {
      "cell_type": "markdown",
      "id": "20fda823",
      "metadata": {
        "id": "20fda823"
      },
      "source": [
        "# Classification_report and Confusion_matrix"
      ]
    },
    {
      "cell_type": "code",
      "execution_count": 32,
      "id": "aafc7f51",
      "metadata": {
        "colab": {
          "base_uri": "https://localhost:8080/",
          "height": 441
        },
        "id": "aafc7f51",
        "outputId": "9f18414d-cc75-4d67-a0b1-2ee5549805b9"
      },
      "outputs": [
        {
          "output_type": "stream",
          "name": "stdout",
          "text": [
            "              precision    recall  f1-score   support\n",
            "\n",
            "         ham       0.97      0.98      0.98      1453\n",
            "        spam       0.84      0.83      0.83       219\n",
            "\n",
            "    accuracy                           0.96      1672\n",
            "   macro avg       0.91      0.90      0.91      1672\n",
            "weighted avg       0.96      0.96      0.96      1672\n",
            "\n"
          ]
        },
        {
          "output_type": "execute_result",
          "data": {
            "text/plain": [
              "<matplotlib.axes._subplots.AxesSubplot at 0x7f2b0c923c90>"
            ]
          },
          "metadata": {},
          "execution_count": 32
        },
        {
          "output_type": "display_data",
          "data": {
            "text/plain": [
              "<Figure size 432x288 with 2 Axes>"
            ],
            "image/png": "[encoded data removed]"
          },
          "metadata": {
            "needs_background": "light"
          }
        }
      ],
      "source": [
        "#Classification report\n",
        "print(classification_report(y_test,tree_pred))\n",
        "#confusion_matrix\n",
        "cn=confusion_matrix(y_test,tree_pred)\n",
        "sns.heatmap(cn,annot=True,cmap=\"cubehelix\",xticklabels=['ham','spam'],yticklabels=['ham','spam'])"
      ]
    },
    {
      "cell_type": "markdown",
      "id": "3d6caabb",
      "metadata": {
        "id": "3d6caabb"
      },
      "source": [
        "# RandomForestClassifier"
      ]
    },
    {
      "cell_type": "code",
      "execution_count": 33,
      "id": "89b30934",
      "metadata": {
        "colab": {
          "base_uri": "https://localhost:8080/"
        },
        "id": "89b30934",
        "outputId": "a61f2195-1560-4e69-b19a-86e3221f255f"
      },
      "outputs": [
        {
          "output_type": "execute_result",
          "data": {
            "text/plain": [
              "RandomForestClassifier()"
            ]
          },
          "metadata": {},
          "execution_count": 33
        }
      ],
      "source": [
        "#Import the RandomForestClassifier from the sklean library\n",
        "from sklearn.ensemble import RandomForestClassifier\n",
        "#install the RandomForestClassifier\n",
        "random=RandomForestClassifier()\n",
        "#Let's fit the traing data to the model\n",
        "random.fit(X_train,y_train)"
      ]
    },
    {
      "cell_type": "code",
      "execution_count": 34,
      "id": "ec1443cc",
      "metadata": {
        "colab": {
          "base_uri": "https://localhost:8080/"
        },
        "id": "ec1443cc",
        "outputId": "00a30959-a325-48f3-cc6d-e3ed592e3106"
      },
      "outputs": [
        {
          "output_type": "execute_result",
          "data": {
            "text/plain": [
              "array(['ham', 'ham', 'ham', ..., 'ham', 'ham', 'ham'], dtype=object)"
            ]
          },
          "metadata": {},
          "execution_count": 34
        }
      ],
      "source": [
        "#RandomForestClassifier prediction to the test data\n",
        "random_pred=random.predict(X_test)\n",
        "random_pred"
      ]
    },
    {
      "cell_type": "code",
      "execution_count": 35,
      "id": "cee77efd",
      "metadata": {
        "colab": {
          "base_uri": "https://localhost:8080/"
        },
        "id": "cee77efd",
        "outputId": "f01e8f38-89e7-45a9-d6ce-ad5185655db8"
      },
      "outputs": [
        {
          "output_type": "stream",
          "name": "stdout",
          "text": [
            "The RandomForestClassifier model test score is 97.13\n",
            "The RandomForestClassifier model train scores is 100.00\n",
            "The RandomForestClassifier accuracy_score 97.13\n"
          ]
        }
      ],
      "source": [
        "#Check the test score and train score to the model\n",
        "print(f'The RandomForestClassifier model test score is {random.score(X_test,y_test)*100:.2f}')\n",
        "#Train score for the data\n",
        "print(f'The RandomForestClassifier model train scores is {random.score(X_train,y_train)*100:.2f}')\n",
        "#Check the accuracy_score to the model\n",
        "print(f'The RandomForestClassifier accuracy_score {accuracy_score(y_test,random_pred)*100:.2f}')"
      ]
    },
    {
      "cell_type": "markdown",
      "id": "57ca9e86",
      "metadata": {
        "id": "57ca9e86"
      },
      "source": [
        "# Classification_report and Confusion_matrix"
      ]
    },
    {
      "cell_type": "code",
      "execution_count": 36,
      "id": "e94d331b",
      "metadata": {
        "colab": {
          "base_uri": "https://localhost:8080/",
          "height": 439
        },
        "id": "e94d331b",
        "outputId": "1db6f67f-558e-4be4-c827-eedc6c7e886c"
      },
      "outputs": [
        {
          "output_type": "stream",
          "name": "stdout",
          "text": [
            "              precision    recall  f1-score   support\n",
            "\n",
            "         ham       0.97      1.00      0.98      1453\n",
            "        spam       1.00      0.78      0.88       219\n",
            "\n",
            "    accuracy                           0.97      1672\n",
            "   macro avg       0.98      0.89      0.93      1672\n",
            "weighted avg       0.97      0.97      0.97      1672\n",
            "\n"
          ]
        },
        {
          "output_type": "execute_result",
          "data": {
            "text/plain": [
              "<matplotlib.axes._subplots.AxesSubplot at 0x7f2b0b133cd0>"
            ]
          },
          "metadata": {},
          "execution_count": 36
        },
        {
          "output_type": "display_data",
          "data": {
            "text/plain": [
              "<Figure size 432x288 with 2 Axes>"
            ],
            "image/png": "[encoded data removed]"
          },
          "metadata": {
            "needs_background": "light"
          }
        }
      ],
      "source": [
        "#Classification report\n",
        "print(classification_report(y_test,random_pred))\n",
        "#confusion_matrix\n",
        "cn=confusion_matrix(y_test,random_pred)\n",
        "sns.heatmap(cn,annot=True,cmap=\"cubehelix\",xticklabels=['ham','spam'],yticklabels=['ham','spam'])"
      ]
    },
    {
      "cell_type": "markdown",
      "id": "48254de9",
      "metadata": {
        "id": "48254de9"
      },
      "source": [
        "# XGBClassifier"
      ]
    },
    {
      "cell_type": "code",
      "execution_count": 37,
      "id": "979c5007",
      "metadata": {
        "colab": {
          "base_uri": "https://localhost:8080/"
        },
        "id": "979c5007",
        "outputId": "1d144e8f-64fd-425e-c66e-4546069a1bb6"
      },
      "outputs": [
        {
          "output_type": "execute_result",
          "data": {
            "text/plain": [
              "XGBClassifier()"
            ]
          },
          "metadata": {},
          "execution_count": 37
        }
      ],
      "source": [
        "#Install the XGBClassifier from the xgboost\n",
        "from xgboost import XGBClassifier\n",
        "#Install the XGBClassifier\n",
        "xgb=XGBClassifier()\n",
        "#Let's fit the traning data to the model\n",
        "xgb.fit(X_train,y_train)"
      ]
    },
    {
      "cell_type": "code",
      "execution_count": 38,
      "id": "b4a1545f",
      "metadata": {
        "colab": {
          "base_uri": "https://localhost:8080/"
        },
        "id": "b4a1545f",
        "outputId": "48bdcbef-a55b-45bf-878b-143e2456faf5"
      },
      "outputs": [
        {
          "output_type": "execute_result",
          "data": {
            "text/plain": [
              "array(['ham', 'ham', 'ham', ..., 'ham', 'ham', 'ham'], dtype=object)"
            ]
          },
          "metadata": {},
          "execution_count": 38
        }
      ],
      "source": [
        "#XGBClassifier prediction to the test dataset\n",
        "xgb_pred=xgb.predict(X_test)\n",
        "xgb_pred"
      ]
    },
    {
      "cell_type": "code",
      "execution_count": 39,
      "id": "f77772c6",
      "metadata": {
        "colab": {
          "base_uri": "https://localhost:8080/"
        },
        "id": "f77772c6",
        "outputId": "1f28635a-05fe-490d-a41c-a48eb7f7b470"
      },
      "outputs": [
        {
          "output_type": "stream",
          "name": "stdout",
          "text": [
            "The XGBClassifier model test score is 96.05\n",
            "The XGBClassifier model train scores is 96.95\n",
            "The XGBClassifier accuracy_score 96.05\n"
          ]
        }
      ],
      "source": [
        "#Check the test score and train score to the model\n",
        "print(f'The XGBClassifier model test score is {xgb.score(X_test,y_test)*100:.2f}')\n",
        "#Train score for the data\n",
        "print(f'The XGBClassifier model train scores is {xgb.score(X_train,y_train)*100:.2f}')\n",
        "#Check the accuracy_score to the model\n",
        "print(f'The XGBClassifier accuracy_score {accuracy_score(y_test,xgb_pred)*100:.2f}')"
      ]
    },
    {
      "cell_type": "markdown",
      "id": "b70471e3",
      "metadata": {
        "id": "b70471e3"
      },
      "source": [
        "# Classification_report and Confusion_matrix"
      ]
    },
    {
      "cell_type": "code",
      "execution_count": 40,
      "id": "f7010ff0",
      "metadata": {
        "colab": {
          "base_uri": "https://localhost:8080/",
          "height": 439
        },
        "id": "f7010ff0",
        "outputId": "117cd3cc-55cf-4f15-ee00-7ba7c34817fb"
      },
      "outputs": [
        {
          "output_type": "stream",
          "name": "stdout",
          "text": [
            "              precision    recall  f1-score   support\n",
            "\n",
            "         ham       0.96      1.00      0.98      1453\n",
            "        spam       0.97      0.72      0.83       219\n",
            "\n",
            "    accuracy                           0.96      1672\n",
            "   macro avg       0.96      0.86      0.90      1672\n",
            "weighted avg       0.96      0.96      0.96      1672\n",
            "\n"
          ]
        },
        {
          "output_type": "execute_result",
          "data": {
            "text/plain": [
              "<matplotlib.axes._subplots.AxesSubplot at 0x7f2b0243b2d0>"
            ]
          },
          "metadata": {},
          "execution_count": 40
        },
        {
          "output_type": "display_data",
          "data": {
            "text/plain": [
              "<Figure size 432x288 with 2 Axes>"
            ],
            "image/png": "[encoded data removed]"
          },
          "metadata": {
            "needs_background": "light"
          }
        }
      ],
      "source": [
        "#Classification report\n",
        "print(classification_report(y_test,xgb_pred))\n",
        "#confusion_matrix\n",
        "cn=confusion_matrix(y_test,xgb_pred)\n",
        "sns.heatmap(cn,annot=True,cmap=\"cubehelix\",xticklabels=['ham','spam'],yticklabels=['ham','spam'])"
      ]
    },
    {
      "cell_type": "markdown",
      "id": "b9154a59",
      "metadata": {
        "id": "b9154a59"
      },
      "source": [
        "# MultinomialNB"
      ]
    },
    {
      "cell_type": "code",
      "execution_count": 41,
      "id": "6bb784ef",
      "metadata": {
        "colab": {
          "base_uri": "https://localhost:8080/"
        },
        "id": "6bb784ef",
        "outputId": "1f8d15f0-3b9d-4516-a763-020003d157bb"
      },
      "outputs": [
        {
          "output_type": "execute_result",
          "data": {
            "text/plain": [
              "MultinomialNB()"
            ]
          },
          "metadata": {},
          "execution_count": 41
        }
      ],
      "source": [
        "#Import the MultinomialNB algorithm to train the our model\n",
        "from sklearn.naive_bayes import MultinomialNB\n",
        "#install the model\n",
        "multinomial=MultinomialNB()\n",
        "#fit the train data to our model\n",
        "multinomial.fit(X_train,y_train)"
      ]
    },
    {
      "cell_type": "code",
      "execution_count": 42,
      "id": "c3667c98",
      "metadata": {
        "colab": {
          "base_uri": "https://localhost:8080/"
        },
        "id": "c3667c98",
        "outputId": "2b25ae6c-a367-4333-9ee6-271710f580fc"
      },
      "outputs": [
        {
          "output_type": "execute_result",
          "data": {
            "text/plain": [
              "array(['ham', 'ham', 'ham', ..., 'ham', 'ham', 'ham'], dtype='<U4')"
            ]
          },
          "metadata": {},
          "execution_count": 42
        }
      ],
      "source": [
        "#MultinomialNB prediction to the test data\n",
        "multinomial_pred=multinomial.predict(X_test)\n",
        "multinomial_pred"
      ]
    },
    {
      "cell_type": "code",
      "execution_count": 43,
      "id": "e1981483",
      "metadata": {
        "colab": {
          "base_uri": "https://localhost:8080/"
        },
        "id": "e1981483",
        "outputId": "023e57af-9e81-45ef-c7d5-dafd21e3e240"
      },
      "outputs": [
        {
          "output_type": "stream",
          "name": "stdout",
          "text": [
            "The MultinomialNB model test score is 95.39\n",
            "The MultinomialNB model train scores is 96.69\n",
            "The MultinomialNB accuracy_score 95.39\n"
          ]
        }
      ],
      "source": [
        "#Check the test score and train score to the model\n",
        "print(f'The MultinomialNB model test score is {multinomial.score(X_test,y_test)*100:.2f}')\n",
        "#Train score for the data\n",
        "print(f'The MultinomialNB model train scores is {multinomial.score(X_train,y_train)*100:.2f}')\n",
        "#Check the accuracy_score to the model\n",
        "print(f'The MultinomialNB accuracy_score {accuracy_score(y_test,multinomial_pred)*100:.2f}')"
      ]
    },
    {
      "cell_type": "markdown",
      "id": "6ce38e08",
      "metadata": {
        "id": "6ce38e08"
      },
      "source": [
        "# Classification_report and Confusion_matrix"
      ]
    },
    {
      "cell_type": "code",
      "execution_count": 44,
      "id": "72862f49",
      "metadata": {
        "colab": {
          "base_uri": "https://localhost:8080/",
          "height": 439
        },
        "id": "72862f49",
        "outputId": "e0575e8a-bae8-4fc0-f8af-b20dfa203ebc"
      },
      "outputs": [
        {
          "output_type": "stream",
          "name": "stdout",
          "text": [
            "              precision    recall  f1-score   support\n",
            "\n",
            "         ham       0.95      1.00      0.97      1453\n",
            "        spam       1.00      0.65      0.79       219\n",
            "\n",
            "    accuracy                           0.95      1672\n",
            "   macro avg       0.97      0.82      0.88      1672\n",
            "weighted avg       0.96      0.95      0.95      1672\n",
            "\n"
          ]
        },
        {
          "output_type": "execute_result",
          "data": {
            "text/plain": [
              "<matplotlib.axes._subplots.AxesSubplot at 0x7f2b1d34c890>"
            ]
          },
          "metadata": {},
          "execution_count": 44
        },
        {
          "output_type": "display_data",
          "data": {
            "text/plain": [
              "<Figure size 432x288 with 2 Axes>"
            ],
            "image/png": "[encoded data removed]"
          },
          "metadata": {
            "needs_background": "light"
          }
        }
      ],
      "source": [
        "#Classification report\n",
        "print(classification_report(y_test,multinomial_pred))\n",
        "#confusion_matrix\n",
        "cn=confusion_matrix(y_test,multinomial_pred)\n",
        "sns.heatmap(cn,annot=True,cmap=\"cubehelix\",xticklabels=['ham','spam'],yticklabels=['ham','spam'])"
      ]
    },
    {
      "cell_type": "code",
      "execution_count": 45,
      "id": "bfdc9968",
      "metadata": {
        "colab": {
          "base_uri": "https://localhost:8080/"
        },
        "id": "bfdc9968",
        "outputId": "e3dd934c-48c4-4146-8d52-8c872902260e"
      },
      "outputs": [
        {
          "output_type": "execute_result",
          "data": {
            "text/plain": [
              "AdaBoostClassifier()"
            ]
          },
          "metadata": {},
          "execution_count": 45
        }
      ],
      "source": [
        "#Import the AdaBosstClassifier from sklearn library\n",
        "from sklearn.ensemble import AdaBoostClassifier\n",
        "#Install the model\n",
        "adam=AdaBoostClassifier()\n",
        "#Fit the traiing data to the model\n",
        "adam.fit(X_train,y_train)"
      ]
    },
    {
      "cell_type": "code",
      "execution_count": 46,
      "id": "91d1a0ef",
      "metadata": {
        "colab": {
          "base_uri": "https://localhost:8080/"
        },
        "id": "91d1a0ef",
        "outputId": "642acf43-e363-41a2-f45a-8b3d8c30d77e"
      },
      "outputs": [
        {
          "output_type": "execute_result",
          "data": {
            "text/plain": [
              "array(['ham', 'ham', 'ham', ..., 'ham', 'ham', 'ham'], dtype=object)"
            ]
          },
          "metadata": {},
          "execution_count": 46
        }
      ],
      "source": [
        "#AdaBoostClassifier prediction to the dataset\n",
        "adam_pred=adam.predict(X_test)\n",
        "adam_pred"
      ]
    },
    {
      "cell_type": "code",
      "execution_count": 47,
      "id": "0aa31c6c",
      "metadata": {
        "colab": {
          "base_uri": "https://localhost:8080/"
        },
        "id": "0aa31c6c",
        "outputId": "90583017-e016-4a28-9ce5-6203aa3d6c8d"
      },
      "outputs": [
        {
          "output_type": "stream",
          "name": "stdout",
          "text": [
            "The AdaBoostClassifier model test score is 95.63\n",
            "The AdaBoostClassifier model train scores is 97.51\n",
            "The AdaBoostClassifier accuracy_score 95.63\n"
          ]
        }
      ],
      "source": [
        "#Check the test score and train score to the model\n",
        "print(f'The AdaBoostClassifier model test score is {adam.score(X_test,y_test)*100:.2f}')\n",
        "#Train score for the data\n",
        "print(f'The AdaBoostClassifier model train scores is {adam.score(X_train,y_train)*100:.2f}')\n",
        "#Check the accuracy_score to the model\n",
        "print(f'The AdaBoostClassifier accuracy_score {accuracy_score(y_test,adam_pred)*100:.2f}')"
      ]
    },
    {
      "cell_type": "markdown",
      "id": "83a2b457",
      "metadata": {
        "id": "83a2b457"
      },
      "source": [
        "# Classification_report and Confusion_matrix"
      ]
    },
    {
      "cell_type": "code",
      "execution_count": 48,
      "id": "8bfb217f",
      "metadata": {
        "colab": {
          "base_uri": "https://localhost:8080/",
          "height": 439
        },
        "id": "8bfb217f",
        "outputId": "0e58e261-fb36-494d-ef9f-9cf86ae385c0"
      },
      "outputs": [
        {
          "output_type": "stream",
          "name": "stdout",
          "text": [
            "              precision    recall  f1-score   support\n",
            "\n",
            "         ham       0.96      0.99      0.98      1453\n",
            "        spam       0.90      0.75      0.82       219\n",
            "\n",
            "    accuracy                           0.96      1672\n",
            "   macro avg       0.93      0.87      0.90      1672\n",
            "weighted avg       0.95      0.96      0.95      1672\n",
            "\n"
          ]
        },
        {
          "output_type": "execute_result",
          "data": {
            "text/plain": [
              "<matplotlib.axes._subplots.AxesSubplot at 0x7f2b1d283fd0>"
            ]
          },
          "metadata": {},
          "execution_count": 48
        },
        {
          "output_type": "display_data",
          "data": {
            "text/plain": [
              "<Figure size 432x288 with 2 Axes>"
            ],
            "image/png": "[encoded data removed]"
          },
          "metadata": {
            "needs_background": "light"
          }
        }
      ],
      "source": [
        "#Classification report\n",
        "print(classification_report(y_test,adam_pred))\n",
        "#confusion_matrix\n",
        "cn=confusion_matrix(y_test,adam_pred)\n",
        "sns.heatmap(cn,annot=True,cmap=\"cubehelix\",xticklabels=['ham','spam'],yticklabels=['ham','spam'])"
      ]
    },
    {
      "cell_type": "markdown",
      "id": "b869847c",
      "metadata": {
        "id": "b869847c"
      },
      "source": [
        "# Print the all model classification report"
      ]
    },
    {
      "cell_type": "code",
      "execution_count": 49,
      "id": "a53968f8",
      "metadata": {
        "id": "a53968f8"
      },
      "outputs": [],
      "source": [
        "#Create a function to print the all model classification report\n",
        "def model_classification(models,names,X_train,y_train,X_test,y_test):\n",
        "    #create for loop for the model and name in zip of models,names\n",
        "    for (model,name) in zip(models,names):\n",
        "        #Prediction to the test data\n",
        "        y_pred=model.predict(X_test)\n",
        "        #Using the prediction to visualize the classification_report\n",
        "        result=classification_report(y_test,y_pred)\n",
        "        #And finaly print the classification report and divide the each classification report\n",
        "        print(\"Classification Report \\n\",result)\n",
        "        print(\"---------------------------------------------------------------------------------------\")\n",
        "        print(\"***************************************************************************************\")\n",
        "        print(\"########################################################################################\")"
      ]
    },
    {
      "cell_type": "code",
      "execution_count": 50,
      "id": "4d985f53",
      "metadata": {
        "colab": {
          "base_uri": "https://localhost:8080/"
        },
        "id": "4d985f53",
        "outputId": "4e1e7340-0a26-4d3d-e6ad-18650d34613a"
      },
      "outputs": [
        {
          "output_type": "stream",
          "name": "stdout",
          "text": [
            "Classification Report \n",
            "               precision    recall  f1-score   support\n",
            "\n",
            "         ham       0.94      1.00      0.97      1453\n",
            "        spam       0.97      0.61      0.75       219\n",
            "\n",
            "    accuracy                           0.95      1672\n",
            "   macro avg       0.96      0.80      0.86      1672\n",
            "weighted avg       0.95      0.95      0.94      1672\n",
            "\n",
            "---------------------------------------------------------------------------------------\n",
            "***************************************************************************************\n",
            "########################################################################################\n",
            "Classification Report \n",
            "               precision    recall  f1-score   support\n",
            "\n",
            "         ham       0.97      0.98      0.98      1453\n",
            "        spam       0.84      0.83      0.83       219\n",
            "\n",
            "    accuracy                           0.96      1672\n",
            "   macro avg       0.91      0.90      0.91      1672\n",
            "weighted avg       0.96      0.96      0.96      1672\n",
            "\n",
            "---------------------------------------------------------------------------------------\n",
            "***************************************************************************************\n",
            "########################################################################################\n",
            "Classification Report \n",
            "               precision    recall  f1-score   support\n",
            "\n",
            "         ham       0.97      1.00      0.98      1453\n",
            "        spam       1.00      0.78      0.88       219\n",
            "\n",
            "    accuracy                           0.97      1672\n",
            "   macro avg       0.98      0.89      0.93      1672\n",
            "weighted avg       0.97      0.97      0.97      1672\n",
            "\n",
            "---------------------------------------------------------------------------------------\n",
            "***************************************************************************************\n",
            "########################################################################################\n",
            "Classification Report \n",
            "               precision    recall  f1-score   support\n",
            "\n",
            "         ham       0.96      1.00      0.98      1453\n",
            "        spam       0.97      0.72      0.83       219\n",
            "\n",
            "    accuracy                           0.96      1672\n",
            "   macro avg       0.96      0.86      0.90      1672\n",
            "weighted avg       0.96      0.96      0.96      1672\n",
            "\n",
            "---------------------------------------------------------------------------------------\n",
            "***************************************************************************************\n",
            "########################################################################################\n",
            "Classification Report \n",
            "               precision    recall  f1-score   support\n",
            "\n",
            "         ham       0.95      1.00      0.97      1453\n",
            "        spam       1.00      0.65      0.79       219\n",
            "\n",
            "    accuracy                           0.95      1672\n",
            "   macro avg       0.97      0.82      0.88      1672\n",
            "weighted avg       0.96      0.95      0.95      1672\n",
            "\n",
            "---------------------------------------------------------------------------------------\n",
            "***************************************************************************************\n",
            "########################################################################################\n",
            "Classification Report \n",
            "               precision    recall  f1-score   support\n",
            "\n",
            "         ham       0.96      0.99      0.98      1453\n",
            "        spam       0.90      0.75      0.82       219\n",
            "\n",
            "    accuracy                           0.96      1672\n",
            "   macro avg       0.93      0.87      0.90      1672\n",
            "weighted avg       0.95      0.96      0.95      1672\n",
            "\n",
            "---------------------------------------------------------------------------------------\n",
            "***************************************************************************************\n",
            "########################################################################################\n"
          ]
        }
      ],
      "source": [
        "#Create a list for the models\n",
        "models=[logistic,tree,random,xgb,multinomial,adam]\n",
        "#Create a list for the names\n",
        "names=['LogisticRegression','DecisionTreeClassifier','RandomForestClassifier','XGBboostClassifier','multinomialNB','AdamBoostClassifier']\n",
        "#And finally define the function with models and names\n",
        "model_classification(models,names,X_train,y_train,X_test,y_test)"
      ]
    },
    {
      "cell_type": "markdown",
      "id": "53e3d2d9",
      "metadata": {
        "id": "53e3d2d9"
      },
      "source": [
        "# About the data Classification reports:\n",
        "### Observe the above classification report, DecisionTreeClassifier given 96%,RandomForestClassifier given 97% and XGBClassifier given 97% accuracy_scores, the reaming model also give 95% accuracy_scores.And we also visualize the confusin_matrix using the seaborn"
      ]
    },
    {
      "cell_type": "markdown",
      "id": "4dd223c7",
      "metadata": {
        "id": "4dd223c7"
      },
      "source": [
        "# How to perfom the our model to the data"
      ]
    },
    {
      "cell_type": "code",
      "execution_count": 51,
      "id": "c806c971",
      "metadata": {
        "colab": {
          "base_uri": "https://localhost:8080/",
          "height": 38
        },
        "id": "c806c971",
        "outputId": "980f833b-142b-4e54-9aa6-f5777c888cb1"
      },
      "outputs": [
        {
          "output_type": "execute_result",
          "data": {
            "text/plain": [
              "'The email is spam'"
            ],
            "application/vnd.google.colaboratory.intrinsic+json": {
              "type": "string"
            }
          },
          "metadata": {},
          "execution_count": 51
        }
      ],
      "source": [
        "text=\"free entry wkly comp win FA Cup final tkts st May Text FA receive entry questionstd txt ratetcs apply over\"\n",
        "text=[text]\n",
        "text_int=vector.transform(text)\n",
        "prediction=tree.predict(text_int)\n",
        "f\"The email is {prediction[0]}\""
      ]
    },
    {
      "cell_type": "code",
      "execution_count": 52,
      "id": "4e945c6b",
      "metadata": {
        "colab": {
          "base_uri": "https://localhost:8080/",
          "height": 38
        },
        "id": "4e945c6b",
        "outputId": "bebb8b45-a605-40ab-c469-73c32aa4a9cb"
      },
      "outputs": [
        {
          "output_type": "execute_result",
          "data": {
            "text/plain": [
              "'The email is ham'"
            ],
            "application/vnd.google.colaboratory.intrinsic+json": {
              "type": "string"
            }
          },
          "metadata": {},
          "execution_count": 52
        }
      ],
      "source": [
        "text=\"go jurong point crazy Available bugis n great world la e buffet Cine get amore wat\"\n",
        "text=[text]\n",
        "text_int=vector.transform(text)\n",
        "prediction=random.predict(text_int)\n",
        "f\"The email is {prediction[0]}\""
      ]
    },
    {
      "cell_type": "code",
      "execution_count": 53,
      "id": "6e050e79",
      "metadata": {
        "colab": {
          "base_uri": "https://localhost:8080/",
          "height": 38
        },
        "id": "6e050e79",
        "outputId": "6c4a8b0b-b173-4960-8c20-0061703cf476"
      },
      "outputs": [
        {
          "output_type": "execute_result",
          "data": {
            "text/plain": [
              "'The email is ham'"
            ],
            "application/vnd.google.colaboratory.intrinsic+json": {
              "type": "string"
            }
          },
          "metadata": {},
          "execution_count": 53
        }
      ],
      "source": [
        "text='I m go to home soon do not want talk stuff anymore tonight k I ve cry enough today'\n",
        "text=[text]\n",
        "text_int=vector.transform(text)\n",
        "prediction=xgb.predict(text_int)\n",
        "f\"The email is {prediction[0]}\""
      ]
    },
    {
      "cell_type": "code",
      "execution_count": 54,
      "id": "4338621c",
      "metadata": {
        "colab": {
          "base_uri": "https://localhost:8080/",
          "height": 38
        },
        "id": "4338621c",
        "outputId": "497d6b43-0aff-4921-99ee-215c75eca834"
      },
      "outputs": [
        {
          "output_type": "execute_result",
          "data": {
            "text/plain": [
              "'The email is spam'"
            ],
            "application/vnd.google.colaboratory.intrinsic+json": {
              "type": "string"
            }
          },
          "metadata": {},
          "execution_count": 54
        }
      ],
      "source": [
        "text='WINNER as value network customer select receivea å£ prize reward to claim call Claim code KL Valid hour'\n",
        "text=[text]\n",
        "text_int=vector.transform(text)\n",
        "prediction=xgb.predict(text_int)\n",
        "f\"The email is {prediction[0]}\""
      ]
    },
    {
      "cell_type": "code",
      "execution_count": 55,
      "id": "183768b8",
      "metadata": {
        "colab": {
          "base_uri": "https://localhost:8080/",
          "height": 38
        },
        "id": "183768b8",
        "outputId": "20ed900f-6c29-403d-bd5d-d59989b61188"
      },
      "outputs": [
        {
          "output_type": "execute_result",
          "data": {
            "text/plain": [
              "'The email is spam'"
            ],
            "application/vnd.google.colaboratory.intrinsic+json": {
              "type": "string"
            }
          },
          "metadata": {},
          "execution_count": 55
        }
      ],
      "source": [
        "text='have mobile month U r entitle Update late colour mobile camera Free Call the Mobile Update Co FREE'\n",
        "text=[text]\n",
        "text_int=vector.transform(text)\n",
        "prediction=random.predict(text_int)\n",
        "f\"The email is {prediction[0]}\""
      ]
    },
    {
      "cell_type": "markdown",
      "id": "548b37e3",
      "metadata": {
        "id": "548b37e3"
      },
      "source": [
        "# CONCLUSION"
      ]
    },
    {
      "cell_type": "markdown",
      "id": "a382b95f",
      "metadata": {
        "id": "a382b95f"
      },
      "source": [
        "### The dataset is taken from the Kaggle website, We predict the text is spam or harm, The data prepocessing contain several steps such as  basicEDA, text preprocessing, build different models, such as LogisticRegression,DecisiontreeClassification,RandomForestClassication,XGBboostClassifier,For the above model  DecisiontreeClassification,RandomForestClassication,XGBboostClassifier, have good accuracy score compare to the other model. After that We do Perfome the models for the test data and use the demo it."
      ]
    },
    {
      "cell_type": "code",
      "execution_count": 55,
      "id": "48d937fa",
      "metadata": {
        "id": "48d937fa"
      },
      "outputs": [],
      "source": []
    }
  ],
  "metadata": {
    "kernelspec": {
      "display_name": "Python 3 (ipykernel)",
      "language": "python",
      "name": "python3"
    },
    "language_info": {
      "codemirror_mode": {
        "name": "ipython",
        "version": 3
      },
      "file_extension": ".py",
      "mimetype": "text/x-python",
      "name": "python",
      "nbconvert_exporter": "python",
      "pygments_lexer": "ipython3",
      "version": "3.9.12"
    },
    "colab": {
      "provenance": [],
      "include_colab_link": true
    },
    "accelerator": "GPU",
    "gpuClass": "standard"
  },
  "nbformat": 4,
  "nbformat_minor": 5
}