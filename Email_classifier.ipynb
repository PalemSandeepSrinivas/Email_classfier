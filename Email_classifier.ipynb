{
  "cells": [
    {
      "cell_type": "markdown",
      "id": "ae33f7b1",
      "metadata": {
        "id": "ae33f7b1"
      },
      "source": [
        "# Problem statement"
      ]
    },
    {
      "cell_type": "markdown",
      "id": "46a2dd55",
      "metadata": {
        "id": "46a2dd55"
      },
      "source": [
        "\n",
        "## TO CLASSIFY THE MAIL AS SPAM OR HAM BY USING MACHINE MODEL,AND GIVE THE BEST ACCURACY SCORE TO THE PROBLEMS."
      ]
    },
    {
      "cell_type": "code",
      "source": [
        "# from google.colab import drive\n",
        "# drive.mount('/content/drive')"
      ],
      "metadata": {
        "id": "42xpyaCxWoZI"
      },
      "id": "42xpyaCxWoZI",
      "execution_count": null,
      "outputs": []
    },
    {
      "cell_type": "code",
      "execution_count": null,
      "id": "881666ec",
      "metadata": {
        "id": "881666ec"
      },
      "outputs": [],
      "source": [
        "#Import the standard librarys\n",
        "import pandas as pd\n",
        "import numpy as np\n",
        "import matplotlib.pyplot as plt\n",
        "import seaborn as sns\n",
        "from sklearn.feature_extraction.text import TfidfVectorizer\n",
        "from sklearn.model_selection import train_test_split\n",
        "from sklearn.linear_model import LogisticRegression\n",
        "import re\n",
        "from textblob import TextBlob\n",
        "from nltk.tokenize.toktok import ToktokTokenizer\n",
        "import string\n",
        "import nltk\n",
        "from sklearn.metrics import accuracy_score,classification_report,confusion_matrix\n",
        "import spacy\n",
        "nlp = spacy.load('en_core_web_sm', disable=['ner'])\n",
        "import warnings\n",
        "warnings.filterwarnings('ignore')"
      ]
    },
    {
      "cell_type": "code",
      "execution_count": null,
      "id": "59610664",
      "metadata": {
        "colab": {
          "base_uri": "https://localhost:8080/"
        },
        "id": "59610664",
        "outputId": "6db66c5c-5580-4647-cad4-b9c038f9958a"
      },
      "outputs": [
        {
          "output_type": "execute_result",
          "data": {
            "text/plain": [
              "(5572, 2)"
            ]
          },
          "metadata": {},
          "execution_count": 119
        }
      ],
      "source": [
        "#data shape\n",
        "data.shape"
      ]
    },
    {
      "cell_type": "code",
      "execution_count": null,
      "id": "149f449b",
      "metadata": {
        "colab": {
          "base_uri": "https://localhost:8080/",
          "height": 206
        },
        "id": "149f449b",
        "outputId": "8c4963da-194c-46bf-838d-265a4fd18168"
      },
      "outputs": [
        {
          "output_type": "execute_result",
          "data": {
            "text/plain": [
              "<pandas.io.formats.style.Styler at 0x7f8230d09b10>"
            ],
            "text/html": [
              "<style type=\"text/css\">\n",
              "</style>\n",
              "<table id=\"T_ddb38_\" class=\"dataframe\">\n",
              "  <thead>\n",
              "    <tr>\n",
              "      <th class=\"blank level0\" >&nbsp;</th>\n",
              "      <th class=\"col_heading level0 col0\" >v1</th>\n",
              "      <th class=\"col_heading level0 col1\" >v2</th>\n",
              "      <th class=\"col_heading level0 col2\" >Unnamed: 2</th>\n",
              "      <th class=\"col_heading level0 col3\" >Unnamed: 3</th>\n",
              "      <th class=\"col_heading level0 col4\" >Unnamed: 4</th>\n",
              "    </tr>\n",
              "  </thead>\n",
              "  <tbody>\n",
              "    <tr>\n",
              "      <th id=\"T_ddb38_level0_row0\" class=\"row_heading level0 row0\" >0</th>\n",
              "      <td id=\"T_ddb38_row0_col0\" class=\"data row0 col0\" >ham</td>\n",
              "      <td id=\"T_ddb38_row0_col1\" class=\"data row0 col1\" >Go until jurong point, crazy.. Available only in bugis n great world la e buffet... Cine there got amore wat...</td>\n",
              "      <td id=\"T_ddb38_row0_col2\" class=\"data row0 col2\" >nan</td>\n",
              "      <td id=\"T_ddb38_row0_col3\" class=\"data row0 col3\" >nan</td>\n",
              "      <td id=\"T_ddb38_row0_col4\" class=\"data row0 col4\" >nan</td>\n",
              "    </tr>\n",
              "    <tr>\n",
              "      <th id=\"T_ddb38_level0_row1\" class=\"row_heading level0 row1\" >1</th>\n",
              "      <td id=\"T_ddb38_row1_col0\" class=\"data row1 col0\" >ham</td>\n",
              "      <td id=\"T_ddb38_row1_col1\" class=\"data row1 col1\" >Ok lar... Joking wif u oni...</td>\n",
              "      <td id=\"T_ddb38_row1_col2\" class=\"data row1 col2\" >nan</td>\n",
              "      <td id=\"T_ddb38_row1_col3\" class=\"data row1 col3\" >nan</td>\n",
              "      <td id=\"T_ddb38_row1_col4\" class=\"data row1 col4\" >nan</td>\n",
              "    </tr>\n",
              "    <tr>\n",
              "      <th id=\"T_ddb38_level0_row2\" class=\"row_heading level0 row2\" >2</th>\n",
              "      <td id=\"T_ddb38_row2_col0\" class=\"data row2 col0\" >spam</td>\n",
              "      <td id=\"T_ddb38_row2_col1\" class=\"data row2 col1\" >Free entry in 2 a wkly comp to win FA Cup final tkts 21st May 2005. Text FA to 87121 to receive entry question(std txt rate)T&C's apply 08452810075over18's</td>\n",
              "      <td id=\"T_ddb38_row2_col2\" class=\"data row2 col2\" >nan</td>\n",
              "      <td id=\"T_ddb38_row2_col3\" class=\"data row2 col3\" >nan</td>\n",
              "      <td id=\"T_ddb38_row2_col4\" class=\"data row2 col4\" >nan</td>\n",
              "    </tr>\n",
              "    <tr>\n",
              "      <th id=\"T_ddb38_level0_row3\" class=\"row_heading level0 row3\" >3</th>\n",
              "      <td id=\"T_ddb38_row3_col0\" class=\"data row3 col0\" >ham</td>\n",
              "      <td id=\"T_ddb38_row3_col1\" class=\"data row3 col1\" >U dun say so early hor... U c already then say...</td>\n",
              "      <td id=\"T_ddb38_row3_col2\" class=\"data row3 col2\" >nan</td>\n",
              "      <td id=\"T_ddb38_row3_col3\" class=\"data row3 col3\" >nan</td>\n",
              "      <td id=\"T_ddb38_row3_col4\" class=\"data row3 col4\" >nan</td>\n",
              "    </tr>\n",
              "    <tr>\n",
              "      <th id=\"T_ddb38_level0_row4\" class=\"row_heading level0 row4\" >4</th>\n",
              "      <td id=\"T_ddb38_row4_col0\" class=\"data row4 col0\" >ham</td>\n",
              "      <td id=\"T_ddb38_row4_col1\" class=\"data row4 col1\" >Nah I don't think he goes to usf, he lives around here though</td>\n",
              "      <td id=\"T_ddb38_row4_col2\" class=\"data row4 col2\" >nan</td>\n",
              "      <td id=\"T_ddb38_row4_col3\" class=\"data row4 col3\" >nan</td>\n",
              "      <td id=\"T_ddb38_row4_col4\" class=\"data row4 col4\" >nan</td>\n",
              "    </tr>\n",
              "  </tbody>\n",
              "</table>\n"
            ]
          },
          "metadata": {},
          "execution_count": 120
        }
      ],
      "source": [
        "#Read the data uisng the pandas\n",
        "data=pd.read_csv('/content/drive/MyDrive/spam.csv',encoding=\"ISO-8859-1\")\n",
        "data.head().style.background_gradient(cmap='jet')"
      ]
    },
    {
      "cell_type": "code",
      "execution_count": null,
      "id": "cc89641e",
      "metadata": {
        "colab": {
          "base_uri": "https://localhost:8080/"
        },
        "id": "cc89641e",
        "outputId": "41dfbf3e-8999-4999-b9db-bfac8df1b42c"
      },
      "outputs": [
        {
          "output_type": "stream",
          "name": "stdout",
          "text": [
            "<class 'pandas.core.frame.DataFrame'>\n",
            "RangeIndex: 5572 entries, 0 to 5571\n",
            "Data columns (total 5 columns):\n",
            " #   Column      Non-Null Count  Dtype \n",
            "---  ------      --------------  ----- \n",
            " 0   v1          5572 non-null   object\n",
            " 1   v2          5572 non-null   object\n",
            " 2   Unnamed: 2  50 non-null     object\n",
            " 3   Unnamed: 3  12 non-null     object\n",
            " 4   Unnamed: 4  6 non-null      object\n",
            "dtypes: object(5)\n",
            "memory usage: 217.8+ KB\n"
          ]
        }
      ],
      "source": [
        "#data information\n",
        "data.info()"
      ]
    },
    {
      "cell_type": "code",
      "execution_count": null,
      "id": "d4f1949e",
      "metadata": {
        "colab": {
          "base_uri": "https://localhost:8080/"
        },
        "id": "d4f1949e",
        "outputId": "f3c91c39-80c8-4b63-8ab8-e8f44e537118"
      },
      "outputs": [
        {
          "output_type": "execute_result",
          "data": {
            "text/plain": [
              "Index(['v1', 'v2', 'Unnamed: 2', 'Unnamed: 3', 'Unnamed: 4'], dtype='object')"
            ]
          },
          "metadata": {},
          "execution_count": 122
        }
      ],
      "source": [
        "#data columns\n",
        "data.columns"
      ]
    },
    {
      "cell_type": "markdown",
      "id": "c584c2ee",
      "metadata": {
        "id": "c584c2ee"
      },
      "source": [
        "# DataPrepocessing"
      ]
    },
    {
      "cell_type": "code",
      "execution_count": null,
      "id": "dddc2ec6",
      "metadata": {
        "colab": {
          "base_uri": "https://localhost:8080/"
        },
        "id": "dddc2ec6",
        "outputId": "9bede728-35ee-4fa9-cd58-66e15e35f52b"
      },
      "outputs": [
        {
          "output_type": "execute_result",
          "data": {
            "text/plain": [
              "v1               0\n",
              "v2               0\n",
              "Unnamed: 2    5522\n",
              "Unnamed: 3    5560\n",
              "Unnamed: 4    5566\n",
              "dtype: int64"
            ]
          },
          "metadata": {},
          "execution_count": 123
        }
      ],
      "source": [
        "#Check the null the values in the dataset\n",
        "data.isna().sum()"
      ]
    },
    {
      "cell_type": "code",
      "execution_count": null,
      "id": "0d8338a1",
      "metadata": {
        "colab": {
          "base_uri": "https://localhost:8080/",
          "height": 206
        },
        "id": "0d8338a1",
        "outputId": "18c2d9cd-9ea2-4fd8-a4f9-2c5d81714923"
      },
      "outputs": [
        {
          "output_type": "execute_result",
          "data": {
            "text/plain": [
              "     v1                                                 v2\n",
              "0   ham  Go until jurong point, crazy.. Available only ...\n",
              "1   ham                      Ok lar... Joking wif u oni...\n",
              "2  spam  Free entry in 2 a wkly comp to win FA Cup fina...\n",
              "3   ham  U dun say so early hor... U c already then say...\n",
              "4   ham  Nah I don't think he goes to usf, he lives aro..."
            ],
            "text/html": [
              "\n",
              "  <div id=\"df-3b4b5ea2-5041-4452-85a4-016c7fd974e8\">\n",
              "    <div class=\"colab-df-container\">\n",
              "      <div>\n",
              "<style scoped>\n",
              "    .dataframe tbody tr th:only-of-type {\n",
              "        vertical-align: middle;\n",
              "    }\n",
              "\n",
              "    .dataframe tbody tr th {\n",
              "        vertical-align: top;\n",
              "    }\n",
              "\n",
              "    .dataframe thead th {\n",
              "        text-align: right;\n",
              "    }\n",
              "</style>\n",
              "<table border=\"1\" class=\"dataframe\">\n",
              "  <thead>\n",
              "    <tr style=\"text-align: right;\">\n",
              "      <th></th>\n",
              "      <th>v1</th>\n",
              "      <th>v2</th>\n",
              "    </tr>\n",
              "  </thead>\n",
              "  <tbody>\n",
              "    <tr>\n",
              "      <th>0</th>\n",
              "      <td>ham</td>\n",
              "      <td>Go until jurong point, crazy.. Available only ...</td>\n",
              "    </tr>\n",
              "    <tr>\n",
              "      <th>1</th>\n",
              "      <td>ham</td>\n",
              "      <td>Ok lar... Joking wif u oni...</td>\n",
              "    </tr>\n",
              "    <tr>\n",
              "      <th>2</th>\n",
              "      <td>spam</td>\n",
              "      <td>Free entry in 2 a wkly comp to win FA Cup fina...</td>\n",
              "    </tr>\n",
              "    <tr>\n",
              "      <th>3</th>\n",
              "      <td>ham</td>\n",
              "      <td>U dun say so early hor... U c already then say...</td>\n",
              "    </tr>\n",
              "    <tr>\n",
              "      <th>4</th>\n",
              "      <td>ham</td>\n",
              "      <td>Nah I don't think he goes to usf, he lives aro...</td>\n",
              "    </tr>\n",
              "  </tbody>\n",
              "</table>\n",
              "</div>\n",
              "      <button class=\"colab-df-convert\" onclick=\"convertToInteractive('df-3b4b5ea2-5041-4452-85a4-016c7fd974e8')\"\n",
              "              title=\"Convert this dataframe to an interactive table.\"\n",
              "              style=\"display:none;\">\n",
              "        \n",
              "  <svg xmlns=\"http://www.w3.org/2000/svg\" height=\"24px\"viewBox=\"0 0 24 24\"\n",
              "       width=\"24px\">\n",
              "    <path d=\"M0 0h24v24H0V0z\" fill=\"none\"/>\n",
              "    <path d=\"M18.56 5.44l.94 2.06.94-2.06 2.06-.94-2.06-.94-.94-2.06-.94 2.06-2.06.94zm-11 1L8.5 8.5l.94-2.06 2.06-.94-2.06-.94L8.5 2.5l-.94 2.06-2.06.94zm10 10l.94 2.06.94-2.06 2.06-.94-2.06-.94-.94-2.06-.94 2.06-2.06.94z\"/><path d=\"M17.41 7.96l-1.37-1.37c-.4-.4-.92-.59-1.43-.59-.52 0-1.04.2-1.43.59L10.3 9.45l-7.72 7.72c-.78.78-.78 2.05 0 2.83L4 21.41c.39.39.9.59 1.41.59.51 0 1.02-.2 1.41-.59l7.78-7.78 2.81-2.81c.8-.78.8-2.07 0-2.86zM5.41 20L4 18.59l7.72-7.72 1.47 1.35L5.41 20z\"/>\n",
              "  </svg>\n",
              "      </button>\n",
              "      \n",
              "  <style>\n",
              "    .colab-df-container {\n",
              "      display:flex;\n",
              "      flex-wrap:wrap;\n",
              "      gap: 12px;\n",
              "    }\n",
              "\n",
              "    .colab-df-convert {\n",
              "      background-color: #E8F0FE;\n",
              "      border: none;\n",
              "      border-radius: 50%;\n",
              "      cursor: pointer;\n",
              "      display: none;\n",
              "      fill: #1967D2;\n",
              "      height: 32px;\n",
              "      padding: 0 0 0 0;\n",
              "      width: 32px;\n",
              "    }\n",
              "\n",
              "    .colab-df-convert:hover {\n",
              "      background-color: #E2EBFA;\n",
              "      box-shadow: 0px 1px 2px rgba(60, 64, 67, 0.3), 0px 1px 3px 1px rgba(60, 64, 67, 0.15);\n",
              "      fill: #174EA6;\n",
              "    }\n",
              "\n",
              "    [theme=dark] .colab-df-convert {\n",
              "      background-color: #3B4455;\n",
              "      fill: #D2E3FC;\n",
              "    }\n",
              "\n",
              "    [theme=dark] .colab-df-convert:hover {\n",
              "      background-color: #434B5C;\n",
              "      box-shadow: 0px 1px 3px 1px rgba(0, 0, 0, 0.15);\n",
              "      filter: drop-shadow(0px 1px 2px rgba(0, 0, 0, 0.3));\n",
              "      fill: #FFFFFF;\n",
              "    }\n",
              "  </style>\n",
              "\n",
              "      <script>\n",
              "        const buttonEl =\n",
              "          document.querySelector('#df-3b4b5ea2-5041-4452-85a4-016c7fd974e8 button.colab-df-convert');\n",
              "        buttonEl.style.display =\n",
              "          google.colab.kernel.accessAllowed ? 'block' : 'none';\n",
              "\n",
              "        async function convertToInteractive(key) {\n",
              "          const element = document.querySelector('#df-3b4b5ea2-5041-4452-85a4-016c7fd974e8');\n",
              "          const dataTable =\n",
              "            await google.colab.kernel.invokeFunction('convertToInteractive',\n",
              "                                                     [key], {});\n",
              "          if (!dataTable) return;\n",
              "\n",
              "          const docLinkHtml = 'Like what you see? Visit the ' +\n",
              "            '<a target=\"_blank\" href=https://colab.research.google.com/notebooks/data_table.ipynb>data table notebook</a>'\n",
              "            + ' to learn more about interactive tables.';\n",
              "          element.innerHTML = '';\n",
              "          dataTable['output_type'] = 'display_data';\n",
              "          await google.colab.output.renderOutput(dataTable, element);\n",
              "          const docLink = document.createElement('div');\n",
              "          docLink.innerHTML = docLinkHtml;\n",
              "          element.appendChild(docLink);\n",
              "        }\n",
              "      </script>\n",
              "    </div>\n",
              "  </div>\n",
              "  "
            ]
          },
          "metadata": {},
          "execution_count": 124
        }
      ],
      "source": [
        "#Remove the unwanted columns\n",
        "data.drop(['Unnamed: 2','Unnamed: 3','Unnamed: 4'],axis=1,inplace=True)\n",
        "data.head()"
      ]
    },
    {
      "cell_type": "code",
      "execution_count": null,
      "id": "aa1277a8",
      "metadata": {
        "colab": {
          "base_uri": "https://localhost:8080/",
          "height": 206
        },
        "id": "aa1277a8",
        "outputId": "046471de-efb1-40a9-813b-674cf9318673"
      },
      "outputs": [
        {
          "output_type": "execute_result",
          "data": {
            "text/plain": [
              "  label                                               text\n",
              "0   ham  Go until jurong point, crazy.. Available only ...\n",
              "1   ham                      Ok lar... Joking wif u oni...\n",
              "2  spam  Free entry in 2 a wkly comp to win FA Cup fina...\n",
              "3   ham  U dun say so early hor... U c already then say...\n",
              "4   ham  Nah I don't think he goes to usf, he lives aro..."
            ],
            "text/html": [
              "\n",
              "  <div id=\"df-f5987afc-820b-46e0-b92d-c9b7a9f8f86b\">\n",
              "    <div class=\"colab-df-container\">\n",
              "      <div>\n",
              "<style scoped>\n",
              "    .dataframe tbody tr th:only-of-type {\n",
              "        vertical-align: middle;\n",
              "    }\n",
              "\n",
              "    .dataframe tbody tr th {\n",
              "        vertical-align: top;\n",
              "    }\n",
              "\n",
              "    .dataframe thead th {\n",
              "        text-align: right;\n",
              "    }\n",
              "</style>\n",
              "<table border=\"1\" class=\"dataframe\">\n",
              "  <thead>\n",
              "    <tr style=\"text-align: right;\">\n",
              "      <th></th>\n",
              "      <th>label</th>\n",
              "      <th>text</th>\n",
              "    </tr>\n",
              "  </thead>\n",
              "  <tbody>\n",
              "    <tr>\n",
              "      <th>0</th>\n",
              "      <td>ham</td>\n",
              "      <td>Go until jurong point, crazy.. Available only ...</td>\n",
              "    </tr>\n",
              "    <tr>\n",
              "      <th>1</th>\n",
              "      <td>ham</td>\n",
              "      <td>Ok lar... Joking wif u oni...</td>\n",
              "    </tr>\n",
              "    <tr>\n",
              "      <th>2</th>\n",
              "      <td>spam</td>\n",
              "      <td>Free entry in 2 a wkly comp to win FA Cup fina...</td>\n",
              "    </tr>\n",
              "    <tr>\n",
              "      <th>3</th>\n",
              "      <td>ham</td>\n",
              "      <td>U dun say so early hor... U c already then say...</td>\n",
              "    </tr>\n",
              "    <tr>\n",
              "      <th>4</th>\n",
              "      <td>ham</td>\n",
              "      <td>Nah I don't think he goes to usf, he lives aro...</td>\n",
              "    </tr>\n",
              "  </tbody>\n",
              "</table>\n",
              "</div>\n",
              "      <button class=\"colab-df-convert\" onclick=\"convertToInteractive('df-f5987afc-820b-46e0-b92d-c9b7a9f8f86b')\"\n",
              "              title=\"Convert this dataframe to an interactive table.\"\n",
              "              style=\"display:none;\">\n",
              "        \n",
              "  <svg xmlns=\"http://www.w3.org/2000/svg\" height=\"24px\"viewBox=\"0 0 24 24\"\n",
              "       width=\"24px\">\n",
              "    <path d=\"M0 0h24v24H0V0z\" fill=\"none\"/>\n",
              "    <path d=\"M18.56 5.44l.94 2.06.94-2.06 2.06-.94-2.06-.94-.94-2.06-.94 2.06-2.06.94zm-11 1L8.5 8.5l.94-2.06 2.06-.94-2.06-.94L8.5 2.5l-.94 2.06-2.06.94zm10 10l.94 2.06.94-2.06 2.06-.94-2.06-.94-.94-2.06-.94 2.06-2.06.94z\"/><path d=\"M17.41 7.96l-1.37-1.37c-.4-.4-.92-.59-1.43-.59-.52 0-1.04.2-1.43.59L10.3 9.45l-7.72 7.72c-.78.78-.78 2.05 0 2.83L4 21.41c.39.39.9.59 1.41.59.51 0 1.02-.2 1.41-.59l7.78-7.78 2.81-2.81c.8-.78.8-2.07 0-2.86zM5.41 20L4 18.59l7.72-7.72 1.47 1.35L5.41 20z\"/>\n",
              "  </svg>\n",
              "      </button>\n",
              "      \n",
              "  <style>\n",
              "    .colab-df-container {\n",
              "      display:flex;\n",
              "      flex-wrap:wrap;\n",
              "      gap: 12px;\n",
              "    }\n",
              "\n",
              "    .colab-df-convert {\n",
              "      background-color: #E8F0FE;\n",
              "      border: none;\n",
              "      border-radius: 50%;\n",
              "      cursor: pointer;\n",
              "      display: none;\n",
              "      fill: #1967D2;\n",
              "      height: 32px;\n",
              "      padding: 0 0 0 0;\n",
              "      width: 32px;\n",
              "    }\n",
              "\n",
              "    .colab-df-convert:hover {\n",
              "      background-color: #E2EBFA;\n",
              "      box-shadow: 0px 1px 2px rgba(60, 64, 67, 0.3), 0px 1px 3px 1px rgba(60, 64, 67, 0.15);\n",
              "      fill: #174EA6;\n",
              "    }\n",
              "\n",
              "    [theme=dark] .colab-df-convert {\n",
              "      background-color: #3B4455;\n",
              "      fill: #D2E3FC;\n",
              "    }\n",
              "\n",
              "    [theme=dark] .colab-df-convert:hover {\n",
              "      background-color: #434B5C;\n",
              "      box-shadow: 0px 1px 3px 1px rgba(0, 0, 0, 0.15);\n",
              "      filter: drop-shadow(0px 1px 2px rgba(0, 0, 0, 0.3));\n",
              "      fill: #FFFFFF;\n",
              "    }\n",
              "  </style>\n",
              "\n",
              "      <script>\n",
              "        const buttonEl =\n",
              "          document.querySelector('#df-f5987afc-820b-46e0-b92d-c9b7a9f8f86b button.colab-df-convert');\n",
              "        buttonEl.style.display =\n",
              "          google.colab.kernel.accessAllowed ? 'block' : 'none';\n",
              "\n",
              "        async function convertToInteractive(key) {\n",
              "          const element = document.querySelector('#df-f5987afc-820b-46e0-b92d-c9b7a9f8f86b');\n",
              "          const dataTable =\n",
              "            await google.colab.kernel.invokeFunction('convertToInteractive',\n",
              "                                                     [key], {});\n",
              "          if (!dataTable) return;\n",
              "\n",
              "          const docLinkHtml = 'Like what you see? Visit the ' +\n",
              "            '<a target=\"_blank\" href=https://colab.research.google.com/notebooks/data_table.ipynb>data table notebook</a>'\n",
              "            + ' to learn more about interactive tables.';\n",
              "          element.innerHTML = '';\n",
              "          dataTable['output_type'] = 'display_data';\n",
              "          await google.colab.output.renderOutput(dataTable, element);\n",
              "          const docLink = document.createElement('div');\n",
              "          docLink.innerHTML = docLinkHtml;\n",
              "          element.appendChild(docLink);\n",
              "        }\n",
              "      </script>\n",
              "    </div>\n",
              "  </div>\n",
              "  "
            ]
          },
          "metadata": {},
          "execution_count": 125
        }
      ],
      "source": [
        "#Rename the columns\n",
        "data.rename(columns={'v1':'label','v2':'text'},inplace=True)\n",
        "data.head()"
      ]
    },
    {
      "cell_type": "code",
      "execution_count": null,
      "id": "8cdb87df",
      "metadata": {
        "colab": {
          "base_uri": "https://localhost:8080/",
          "height": 388
        },
        "id": "8cdb87df",
        "outputId": "78b4e4fb-04d9-4a1a-e400-1405880f3f0f"
      },
      "outputs": [
        {
          "output_type": "display_data",
          "data": {
            "text/plain": [
              "<Figure size 1296x432 with 1 Axes>"
            ],
            "image/png": "[encoded data removed]"
          },
          "metadata": {}
        }
      ],
      "source": [
        "#to visuaize the label percentage in the train dataset\n",
        "label=data['label'].value_counts()\n",
        "#to visualize the above information in the pie chart\n",
        "plt.figure(figsize=(18,6))\n",
        "plt.pie(label,labels=['ham','spam'],colors=['c','m'],autopct='%1.1f%%',explode=[0.2,0.3])\n",
        "#set the title name with fontsize \n",
        "plt.title(\"The label percentage in dataset\",fontsize=32)\n",
        "plt.show()"
      ]
    },
    {
      "cell_type": "code",
      "execution_count": null,
      "id": "b62ec33a",
      "metadata": {
        "id": "b62ec33a"
      },
      "outputs": [],
      "source": [
        "#Creat the function and remove the punctuation\n",
        "def remove_punctuation(text):\n",
        "    for punctuation in string.punctuation:\n",
        "        text=text.replace(punctuation,'')\n",
        "    return text\n",
        "#And apply function to the train dataset\n",
        "data['text']=data['text'].apply(remove_punctuation)"
      ]
    },
    {
      "cell_type": "code",
      "execution_count": null,
      "id": "a2c738b3",
      "metadata": {
        "colab": {
          "base_uri": "https://localhost:8080/"
        },
        "id": "a2c738b3",
        "outputId": "507b5b34-7788-463e-8fea-efaaa746f916"
      },
      "outputs": [
        {
          "output_type": "stream",
          "name": "stderr",
          "text": [
            "[nltk_data] Downloading package stopwords to /root/nltk_data...\n",
            "[nltk_data]   Package stopwords is already up-to-date!\n"
          ]
        }
      ],
      "source": [
        "#create the remove the stopwords\n",
        "import nltk\n",
        "nltk.download('stopwords')\n",
        "stop_words_list=nltk.corpus.stopwords.words('english')\n",
        "stop_words_list.remove('no')\n",
        "stop_words_list.remove('not')"
      ]
    },
    {
      "cell_type": "code",
      "execution_count": null,
      "id": "e53ef8ee",
      "metadata": {
        "id": "e53ef8ee"
      },
      "outputs": [],
      "source": [
        "#install the tokeninzer\n",
        "tokenizer = ToktokTokenizer()\n",
        "#Create function to remove the stopwords\n",
        "def remove_stopwords(text,is_lower_case=True):\n",
        "    tokens=tokenizer.tokenize(text)\n",
        "    tokens=[token.strip() for token in tokens]\n",
        "    if is_lower_case:\n",
        "        filterd_tokens=[token for token in tokens if token not in stop_words_list]\n",
        "    else:\n",
        "        filterd_tokens=[token for token in tokens if token.lower() not in stop_words_list]\n",
        "    filterd_text=' '.join(filterd_tokens)\n",
        "    return filterd_text\n",
        "data['text']=data['text'].apply(remove_stopwords)"
      ]
    },
    {
      "cell_type": "code",
      "execution_count": null,
      "id": "74827245",
      "metadata": {
        "colab": {
          "base_uri": "https://localhost:8080/",
          "height": 206
        },
        "id": "74827245",
        "outputId": "f5a35853-6831-499b-da2d-808e9e08fed8"
      },
      "outputs": [
        {
          "output_type": "execute_result",
          "data": {
            "text/plain": [
              "<pandas.io.formats.style.Styler at 0x7f8242ce95d0>"
            ],
            "text/html": [
              "<style type=\"text/css\">\n",
              "</style>\n",
              "<table id=\"T_12ae2_\" class=\"dataframe\">\n",
              "  <thead>\n",
              "    <tr>\n",
              "      <th class=\"blank level0\" >&nbsp;</th>\n",
              "      <th class=\"col_heading level0 col0\" >label</th>\n",
              "      <th class=\"col_heading level0 col1\" >text</th>\n",
              "    </tr>\n",
              "  </thead>\n",
              "  <tbody>\n",
              "    <tr>\n",
              "      <th id=\"T_12ae2_level0_row0\" class=\"row_heading level0 row0\" >0</th>\n",
              "      <td id=\"T_12ae2_row0_col0\" class=\"data row0 col0\" >ham</td>\n",
              "      <td id=\"T_12ae2_row0_col1\" class=\"data row0 col1\" >Go jurong point crazy Available bugis n great world la e buffet Cine got amore wat</td>\n",
              "    </tr>\n",
              "    <tr>\n",
              "      <th id=\"T_12ae2_level0_row1\" class=\"row_heading level0 row1\" >1</th>\n",
              "      <td id=\"T_12ae2_row1_col0\" class=\"data row1 col0\" >ham</td>\n",
              "      <td id=\"T_12ae2_row1_col1\" class=\"data row1 col1\" >Ok lar Joking wif u oni</td>\n",
              "    </tr>\n",
              "    <tr>\n",
              "      <th id=\"T_12ae2_level0_row2\" class=\"row_heading level0 row2\" >2</th>\n",
              "      <td id=\"T_12ae2_row2_col0\" class=\"data row2 col0\" >spam</td>\n",
              "      <td id=\"T_12ae2_row2_col1\" class=\"data row2 col1\" >Free entry 2 wkly comp win FA Cup final tkts 21st May 2005 Text FA 87121 receive entry questionstd txt rateTCs apply 08452810075over18s</td>\n",
              "    </tr>\n",
              "    <tr>\n",
              "      <th id=\"T_12ae2_level0_row3\" class=\"row_heading level0 row3\" >3</th>\n",
              "      <td id=\"T_12ae2_row3_col0\" class=\"data row3 col0\" >ham</td>\n",
              "      <td id=\"T_12ae2_row3_col1\" class=\"data row3 col1\" >U dun say early hor U c already say</td>\n",
              "    </tr>\n",
              "    <tr>\n",
              "      <th id=\"T_12ae2_level0_row4\" class=\"row_heading level0 row4\" >4</th>\n",
              "      <td id=\"T_12ae2_row4_col0\" class=\"data row4 col0\" >ham</td>\n",
              "      <td id=\"T_12ae2_row4_col1\" class=\"data row4 col1\" >Nah I dont think goes usf lives around though</td>\n",
              "    </tr>\n",
              "  </tbody>\n",
              "</table>\n"
            ]
          },
          "metadata": {},
          "execution_count": 130
        }
      ],
      "source": [
        "#remove the special characters\n",
        "def remove_special_characters(text):\n",
        "    text=re.sub('[^a-zA-z0-9\\s]','',text)\n",
        "    return text\n",
        "data['text']=data['text'].apply(remove_stopwords)\n",
        "data.head().style.background_gradient(cmap='jet')"
      ]
    },
    {
      "cell_type": "code",
      "execution_count": null,
      "id": "8c1bfdba",
      "metadata": {
        "id": "8c1bfdba"
      },
      "outputs": [],
      "source": [
        "#Remove html patternst\n",
        "def remove_html(text):\n",
        "    html_pattran=re.compile('<.*?>')\n",
        "    return html_pattran.sub(r' ',text)\n",
        "#And apply the above function to the train data\n",
        "data['text']=data['text'].apply(remove_html)"
      ]
    },
    {
      "cell_type": "code",
      "execution_count": null,
      "id": "3b67474a",
      "metadata": {
        "id": "3b67474a"
      },
      "outputs": [],
      "source": [
        "#Remove the html url from the train dataset\n",
        "def remove_url(text):\n",
        "    url=re.compile(r'https?://\\S+|www\\.\\S+')\n",
        "    return url.sub(r' ',text)\n",
        "#And apply to the train dataset\n",
        "data['text']=data['text'].apply(remove_url)"
      ]
    },
    {
      "cell_type": "code",
      "execution_count": null,
      "id": "6f0c3333",
      "metadata": {
        "id": "6f0c3333"
      },
      "outputs": [],
      "source": [
        "#Remove the numbers in the dataset\n",
        "def remove_numbers(text):\n",
        "    text=''.join([i for i in text if  not i.isdigit()])\n",
        "    return text\n",
        "#And apply the above function to the train data\n",
        "data['text']=data['text'].apply(remove_numbers)"
      ]
    },
    {
      "cell_type": "code",
      "execution_count": null,
      "id": "a71911f7",
      "metadata": {
        "id": "a71911f7"
      },
      "outputs": [],
      "source": [
        "def cleanse(word):\n",
        "    rx=re.compile(r'\\D*\\d')\n",
        "    if rx.match(word):\n",
        "        return ' '\n",
        "    return word\n",
        "#Remove the alpha numaric\n",
        "def alpha_numeric(strings):\n",
        "    nstrings=[\" \".join(filter(None,(cleanse(word) for word in string.split()))) for string in strings.split()]\n",
        "    str1=\" \".join(nstrings)\n",
        "    return str1\n",
        "#Apply to the above function to the train dataset\n",
        "data['text']=data['text'].apply(alpha_numeric)"
      ]
    },
    {
      "cell_type": "code",
      "execution_count": null,
      "id": "dce8fcf8",
      "metadata": {
        "id": "dce8fcf8"
      },
      "outputs": [],
      "source": [
        "#lemmatizer\n",
        "def lemmatize(text):\n",
        "    text=nlp(text)\n",
        "    text=\" \".join([word.lemma_ if word.lemma_!='-PRON-' else word for word in text])\n",
        "    return text\n",
        "#Apply the above function to the rain dataset\n",
        "data['text']=data['text'].apply(lemmatize)"
      ]
    },
    {
      "cell_type": "code",
      "execution_count": null,
      "id": "a0c360d2",
      "metadata": {
        "colab": {
          "base_uri": "https://localhost:8080/",
          "height": 394
        },
        "id": "a0c360d2",
        "outputId": "a440962e-5083-4257-fe6f-d010654c2102"
      },
      "outputs": [
        {
          "output_type": "execute_result",
          "data": {
            "text/plain": [
              "<pandas.io.formats.style.Styler at 0x7f8242f32b50>"
            ],
            "text/html": [
              "<style type=\"text/css\">\n",
              "</style>\n",
              "<table id=\"T_aedcc_\" class=\"dataframe\">\n",
              "  <thead>\n",
              "    <tr>\n",
              "      <th class=\"blank level0\" >&nbsp;</th>\n",
              "      <th class=\"col_heading level0 col0\" >label</th>\n",
              "      <th class=\"col_heading level0 col1\" >text</th>\n",
              "    </tr>\n",
              "  </thead>\n",
              "  <tbody>\n",
              "    <tr>\n",
              "      <th id=\"T_aedcc_level0_row0\" class=\"row_heading level0 row0\" >0</th>\n",
              "      <td id=\"T_aedcc_row0_col0\" class=\"data row0 col0\" >ham</td>\n",
              "      <td id=\"T_aedcc_row0_col1\" class=\"data row0 col1\" >go jurong point crazy Available bugis n great world la e buffet Cine get amore wat</td>\n",
              "    </tr>\n",
              "    <tr>\n",
              "      <th id=\"T_aedcc_level0_row1\" class=\"row_heading level0 row1\" >1</th>\n",
              "      <td id=\"T_aedcc_row1_col0\" class=\"data row1 col0\" >ham</td>\n",
              "      <td id=\"T_aedcc_row1_col1\" class=\"data row1 col1\" >ok lar Joking wif u oni</td>\n",
              "    </tr>\n",
              "    <tr>\n",
              "      <th id=\"T_aedcc_level0_row2\" class=\"row_heading level0 row2\" >2</th>\n",
              "      <td id=\"T_aedcc_row2_col0\" class=\"data row2 col0\" >spam</td>\n",
              "      <td id=\"T_aedcc_row2_col1\" class=\"data row2 col1\" >free entry wkly comp win FA Cup final tkts st May Text FA receive entry questionstd txt ratetcs apply over</td>\n",
              "    </tr>\n",
              "    <tr>\n",
              "      <th id=\"T_aedcc_level0_row3\" class=\"row_heading level0 row3\" >3</th>\n",
              "      <td id=\"T_aedcc_row3_col0\" class=\"data row3 col0\" >ham</td>\n",
              "      <td id=\"T_aedcc_row3_col1\" class=\"data row3 col1\" >U dun say early hor U c already say</td>\n",
              "    </tr>\n",
              "    <tr>\n",
              "      <th id=\"T_aedcc_level0_row4\" class=\"row_heading level0 row4\" >4</th>\n",
              "      <td id=\"T_aedcc_row4_col0\" class=\"data row4 col0\" >ham</td>\n",
              "      <td id=\"T_aedcc_row4_col1\" class=\"data row4 col1\" >Nah I do not think go usf live around though</td>\n",
              "    </tr>\n",
              "    <tr>\n",
              "      <th id=\"T_aedcc_level0_row5\" class=\"row_heading level0 row5\" >5</th>\n",
              "      <td id=\"T_aedcc_row5_col0\" class=\"data row5 col0\" >spam</td>\n",
              "      <td id=\"T_aedcc_row5_col1\" class=\"data row5 col1\" >FreeMsg hey darle week no word back I d like fun still tb ok XxX std chgs send å£ rcv</td>\n",
              "    </tr>\n",
              "    <tr>\n",
              "      <th id=\"T_aedcc_level0_row6\" class=\"row_heading level0 row6\" >6</th>\n",
              "      <td id=\"T_aedcc_row6_col0\" class=\"data row6 col0\" >ham</td>\n",
              "      <td id=\"T_aedcc_row6_col1\" class=\"data row6 col1\" >even brother not like speak they treat like aids patent</td>\n",
              "    </tr>\n",
              "    <tr>\n",
              "      <th id=\"T_aedcc_level0_row7\" class=\"row_heading level0 row7\" >7</th>\n",
              "      <td id=\"T_aedcc_row7_col0\" class=\"data row7 col0\" >ham</td>\n",
              "      <td id=\"T_aedcc_row7_col1\" class=\"data row7 col1\" >as per request Melle Melle Oru Minnaminunginte Nurungu Vettam set callertune Callers Press copy friend Callertune</td>\n",
              "    </tr>\n",
              "    <tr>\n",
              "      <th id=\"T_aedcc_level0_row8\" class=\"row_heading level0 row8\" >8</th>\n",
              "      <td id=\"T_aedcc_row8_col0\" class=\"data row8 col0\" >spam</td>\n",
              "      <td id=\"T_aedcc_row8_col1\" class=\"data row8 col1\" >WINNER as value network customer select receivea å£ prize reward to claim call Claim code KL Valid hour</td>\n",
              "    </tr>\n",
              "    <tr>\n",
              "      <th id=\"T_aedcc_level0_row9\" class=\"row_heading level0 row9\" >9</th>\n",
              "      <td id=\"T_aedcc_row9_col0\" class=\"data row9 col0\" >spam</td>\n",
              "      <td id=\"T_aedcc_row9_col1\" class=\"data row9 col1\" >have mobile month U r entitle Update late colour mobile camera Free Call the Mobile Update Co FREE</td>\n",
              "    </tr>\n",
              "    <tr>\n",
              "      <th id=\"T_aedcc_level0_row10\" class=\"row_heading level0 row10\" >10</th>\n",
              "      <td id=\"T_aedcc_row10_col0\" class=\"data row10 col0\" >ham</td>\n",
              "      <td id=\"T_aedcc_row10_col1\" class=\"data row10 col1\" >I m go to home soon do not want talk stuff anymore tonight k I ve cry enough today</td>\n",
              "    </tr>\n",
              "  </tbody>\n",
              "</table>\n"
            ]
          },
          "metadata": {},
          "execution_count": 136
        }
      ],
      "source": [
        "data.head(11).style.background_gradient(cmap='Reds')"
      ]
    },
    {
      "cell_type": "code",
      "execution_count": null,
      "id": "ebe51d87",
      "metadata": {
        "colab": {
          "base_uri": "https://localhost:8080/",
          "height": 38
        },
        "id": "ebe51d87",
        "outputId": "be659aed-3233-4456-f887-2de9fc6efe9c"
      },
      "outputs": [
        {
          "output_type": "execute_result",
          "data": {
            "text/plain": [
              "'six chance win cash from pound txt CSH send Cost pday day TsandCs apply Reply hl info'"
            ],
            "application/vnd.google.colaboratory.intrinsic+json": {
              "type": "string"
            }
          },
          "metadata": {},
          "execution_count": 137
        }
      ],
      "source": [
        "data['text'][11]"
      ]
    },
    {
      "cell_type": "markdown",
      "id": "47335c25",
      "metadata": {
        "id": "47335c25"
      },
      "source": [
        "# Modeling"
      ]
    },
    {
      "cell_type": "code",
      "execution_count": null,
      "id": "e3799fed",
      "metadata": {
        "id": "e3799fed"
      },
      "outputs": [],
      "source": [
        "#Divided the data into X and y\n",
        "X=data['text'].values\n",
        "y=data['label'].values"
      ]
    },
    {
      "cell_type": "code",
      "execution_count": null,
      "id": "bd25dd8f",
      "metadata": {
        "id": "bd25dd8f"
      },
      "outputs": [],
      "source": [
        "#Install the TfidfVectorizer for covert the categorical data to array\n",
        "vector=TfidfVectorizer()\n",
        "vector.fit(X)\n",
        "X=vector.transform(X)"
      ]
    },
    {
      "cell_type": "code",
      "execution_count": null,
      "id": "a85fe597",
      "metadata": {
        "id": "a85fe597"
      },
      "outputs": [],
      "source": [
        "#Divided the data into train_test and use 30% used for testing\n",
        "X_train,X_test,y_train,y_test=train_test_split(X,y,test_size=0.3,random_state=42)"
      ]
    },
    {
      "cell_type": "markdown",
      "id": "f697d895",
      "metadata": {
        "id": "f697d895"
      },
      "source": [
        "# LogisticRegression"
      ]
    },
    {
      "cell_type": "code",
      "execution_count": null,
      "id": "42abe4b1",
      "metadata": {
        "colab": {
          "base_uri": "https://localhost:8080/"
        },
        "id": "42abe4b1",
        "outputId": "75ee7ffa-62ef-4005-922d-b572a59f6d8b"
      },
      "outputs": [
        {
          "output_type": "execute_result",
          "data": {
            "text/plain": [
              "LogisticRegression()"
            ]
          },
          "metadata": {},
          "execution_count": 141
        }
      ],
      "source": [
        "#Install the logisticregression model\n",
        "logistic=LogisticRegression()\n",
        "#Let's fit the train data\n",
        "logistic.fit(X_train,y_train)"
      ]
    },
    {
      "cell_type": "code",
      "execution_count": null,
      "id": "66fb167e",
      "metadata": {
        "colab": {
          "base_uri": "https://localhost:8080/"
        },
        "id": "66fb167e",
        "outputId": "09da3caf-729d-4ec6-ca1f-adf03204483a"
      },
      "outputs": [
        {
          "output_type": "execute_result",
          "data": {
            "text/plain": [
              "array(['ham', 'ham', 'ham', ..., 'ham', 'ham', 'ham'], dtype=object)"
            ]
          },
          "metadata": {},
          "execution_count": 142
        }
      ],
      "source": [
        "#Prediction to the test data\n",
        "logistic_pred=logistic.predict(X_test)\n",
        "logistic_pred"
      ]
    },
    {
      "cell_type": "code",
      "execution_count": null,
      "id": "7a859ea2",
      "metadata": {
        "colab": {
          "base_uri": "https://localhost:8080/"
        },
        "id": "7a859ea2",
        "outputId": "8239fc7d-ab51-44fb-b01c-f528f9c98a4b"
      },
      "outputs": [
        {
          "output_type": "stream",
          "name": "stdout",
          "text": [
            "The Logisticregression model test score is 94.56\n",
            "The Logisticregression model train scores is 96.82\n",
            "The logisticRegression accuracy_score 94.56\n"
          ]
        }
      ],
      "source": [
        "#Check the test score and train score to the model\n",
        "print(f'The Logisticregression model test score is {logistic.score(X_test,y_test)*100:.2f}')\n",
        "#Train score for the data\n",
        "print(f'The Logisticregression model train scores is {logistic.score(X_train,y_train)*100:.2f}')\n",
        "#Check the accuracy_score to the model\n",
        "print(f'The logisticRegression accuracy_score {accuracy_score(y_test,logistic_pred)*100:.2f}')"
      ]
    },
    {
      "cell_type": "markdown",
      "id": "32790de2",
      "metadata": {
        "id": "32790de2"
      },
      "source": [
        "# Classification_report and Confusion_matrix"
      ]
    },
    {
      "cell_type": "code",
      "execution_count": null,
      "id": "844cc175",
      "metadata": {
        "colab": {
          "base_uri": "https://localhost:8080/",
          "height": 439
        },
        "id": "844cc175",
        "outputId": "cf3d79c6-3ceb-4f06-b6a4-1437570ce647"
      },
      "outputs": [
        {
          "output_type": "stream",
          "name": "stdout",
          "text": [
            "              precision    recall  f1-score   support\n",
            "\n",
            "         ham       0.94      1.00      0.97      1453\n",
            "        spam       0.97      0.60      0.74       219\n",
            "\n",
            "    accuracy                           0.95      1672\n",
            "   macro avg       0.96      0.80      0.86      1672\n",
            "weighted avg       0.95      0.95      0.94      1672\n",
            "\n"
          ]
        },
        {
          "output_type": "execute_result",
          "data": {
            "text/plain": [
              "<matplotlib.axes._subplots.AxesSubplot at 0x7f8241e05d50>"
            ]
          },
          "metadata": {},
          "execution_count": 144
        },
        {
          "output_type": "display_data",
          "data": {
            "text/plain": [
              "<Figure size 432x288 with 2 Axes>"
            ],
            "image/png": "[encoded data removed]"
          },
          "metadata": {
            "needs_background": "light"
          }
        }
      ],
      "source": [
        "#Classification report\n",
        "print(classification_report(y_test,logistic_pred))\n",
        "#confusion_matrix\n",
        "cn=confusion_matrix(y_test,logistic_pred)\n",
        "sns.heatmap(cn,annot=True,cmap=\"cubehelix\",xticklabels=['ham','spam'],yticklabels=['ham','spam'])"
      ]
    },
    {
      "cell_type": "markdown",
      "id": "999bee4b",
      "metadata": {
        "id": "999bee4b"
      },
      "source": [
        "# DecisionTreeClassifier"
      ]
    },
    {
      "cell_type": "code",
      "execution_count": null,
      "id": "142fc6ed",
      "metadata": {
        "colab": {
          "base_uri": "https://localhost:8080/"
        },
        "id": "142fc6ed",
        "outputId": "380af38c-6b04-4598-d67c-9230922c7ec6"
      },
      "outputs": [
        {
          "output_type": "execute_result",
          "data": {
            "text/plain": [
              "DecisionTreeClassifier()"
            ]
          },
          "metadata": {},
          "execution_count": 145
        }
      ],
      "source": [
        "#Import the DecisionTreeClassifier from sklean library\n",
        "from sklearn.tree import DecisionTreeClassifier\n",
        "#install the library\n",
        "tree=DecisionTreeClassifier()\n",
        "#Fit the train data to the model\n",
        "tree.fit(X_train,y_train)"
      ]
    },
    {
      "cell_type": "code",
      "execution_count": null,
      "id": "9fb94fed",
      "metadata": {
        "colab": {
          "base_uri": "https://localhost:8080/"
        },
        "id": "9fb94fed",
        "outputId": "3d587ccd-8956-46a4-8100-ddde19ae3cc0"
      },
      "outputs": [
        {
          "output_type": "execute_result",
          "data": {
            "text/plain": [
              "array(['ham', 'ham', 'ham', ..., 'ham', 'ham', 'ham'], dtype=object)"
            ]
          },
          "metadata": {},
          "execution_count": 146
        }
      ],
      "source": [
        "#DecisionTreeClassifier Testdata prediction\n",
        "tree_pred=tree.predict(X_test)\n",
        "tree_pred"
      ]
    },
    {
      "cell_type": "code",
      "execution_count": null,
      "id": "3b7a9707",
      "metadata": {
        "colab": {
          "base_uri": "https://localhost:8080/"
        },
        "id": "3b7a9707",
        "outputId": "eff07c17-9b3a-429b-8f6b-4649a02ccb82"
      },
      "outputs": [
        {
          "output_type": "stream",
          "name": "stdout",
          "text": [
            "The DecisionTreeClassifier model test score is 95.51\n",
            "The DecisionTreeClassifier model train scores is 100.00\n",
            "The DecisionTreeClassifier accuracy_score 95.51\n"
          ]
        }
      ],
      "source": [
        "#Check the test score and train score to the model\n",
        "print(f'The DecisionTreeClassifier model test score is {tree.score(X_test,y_test)*100:.2f}')\n",
        "#Train score for the data\n",
        "print(f'The DecisionTreeClassifier model train scores is {tree.score(X_train,y_train)*100:.2f}')\n",
        "#Check the accuracy_score to the model\n",
        "print(f'The DecisionTreeClassifier accuracy_score {accuracy_score(y_test,tree_pred)*100:.2f}')"
      ]
    },
    {
      "cell_type": "markdown",
      "id": "20fda823",
      "metadata": {
        "id": "20fda823"
      },
      "source": [
        "# Classification_report and Confusion_matrix"
      ]
    },
    {
      "cell_type": "code",
      "execution_count": null,
      "id": "aafc7f51",
      "metadata": {
        "colab": {
          "base_uri": "https://localhost:8080/",
          "height": 440
        },
        "id": "aafc7f51",
        "outputId": "54bd78bc-44a3-41c6-83b3-e06baa6c5df5"
      },
      "outputs": [
        {
          "output_type": "stream",
          "name": "stdout",
          "text": [
            "              precision    recall  f1-score   support\n",
            "\n",
            "         ham       0.97      0.98      0.97      1453\n",
            "        spam       0.85      0.80      0.82       219\n",
            "\n",
            "    accuracy                           0.96      1672\n",
            "   macro avg       0.91      0.89      0.90      1672\n",
            "weighted avg       0.95      0.96      0.95      1672\n",
            "\n"
          ]
        },
        {
          "output_type": "execute_result",
          "data": {
            "text/plain": [
              "<matplotlib.axes._subplots.AxesSubplot at 0x7f82324dc790>"
            ]
          },
          "metadata": {},
          "execution_count": 148
        },
        {
          "output_type": "display_data",
          "data": {
            "text/plain": [
              "<Figure size 432x288 with 2 Axes>"
            ],
            "image/png": "[encoded data removed]"
          },
          "metadata": {
            "needs_background": "light"
          }
        }
      ],
      "source": [
        "#Classification report\n",
        "print(classification_report(y_test,tree_pred))\n",
        "#confusion_matrix\n",
        "cn=confusion_matrix(y_test,tree_pred)\n",
        "sns.heatmap(cn,annot=True,cmap=\"cubehelix\",xticklabels=['ham','spam'],yticklabels=['ham','spam'])"
      ]
    },
    {
      "cell_type": "markdown",
      "id": "3d6caabb",
      "metadata": {
        "id": "3d6caabb"
      },
      "source": [
        "# RandomForestClassifier"
      ]
    },
    {
      "cell_type": "code",
      "execution_count": null,
      "id": "89b30934",
      "metadata": {
        "colab": {
          "base_uri": "https://localhost:8080/"
        },
        "id": "89b30934",
        "outputId": "a3aaad99-fb3d-4545-8a52-b6a28b85e66a"
      },
      "outputs": [
        {
          "output_type": "execute_result",
          "data": {
            "text/plain": [
              "RandomForestClassifier()"
            ]
          },
          "metadata": {},
          "execution_count": 149
        }
      ],
      "source": [
        "#Import the RandomForestClassifier from the sklean library\n",
        "from sklearn.ensemble import RandomForestClassifier\n",
        "#install the RandomForestClassifier\n",
        "random=RandomForestClassifier()\n",
        "#Let's fit the traing data to the model\n",
        "random.fit(X_train,y_train)"
      ]
    },
    {
      "cell_type": "code",
      "execution_count": null,
      "id": "ec1443cc",
      "metadata": {
        "colab": {
          "base_uri": "https://localhost:8080/"
        },
        "id": "ec1443cc",
        "outputId": "e784bec0-3aaa-427e-e9f0-8a6d1648f533"
      },
      "outputs": [
        {
          "output_type": "execute_result",
          "data": {
            "text/plain": [
              "array(['ham', 'ham', 'ham', ..., 'ham', 'ham', 'ham'], dtype=object)"
            ]
          },
          "metadata": {},
          "execution_count": 150
        }
      ],
      "source": [
        "#RandomForestClassifier prediction to the test data\n",
        "random_pred=random.predict(X_test)\n",
        "random_pred"
      ]
    },
    {
      "cell_type": "code",
      "execution_count": null,
      "id": "cee77efd",
      "metadata": {
        "colab": {
          "base_uri": "https://localhost:8080/"
        },
        "id": "cee77efd",
        "outputId": "07dcbdaf-e41a-4a92-dd12-99cfb63ad30b"
      },
      "outputs": [
        {
          "output_type": "stream",
          "name": "stdout",
          "text": [
            "The RandomForestClassifier model test score is 97.13\n",
            "The RandomForestClassifier model train scores is 100.00\n",
            "The RandomForestClassifier accuracy_score 97.13\n"
          ]
        }
      ],
      "source": [
        "#Check the test score and train score to the model\n",
        "print(f'The RandomForestClassifier model test score is {random.score(X_test,y_test)*100:.2f}')\n",
        "#Train score for the data\n",
        "print(f'The RandomForestClassifier model train scores is {random.score(X_train,y_train)*100:.2f}')\n",
        "#Check the accuracy_score to the model\n",
        "print(f'The RandomForestClassifier accuracy_score {accuracy_score(y_test,random_pred)*100:.2f}')"
      ]
    },
    {
      "cell_type": "markdown",
      "id": "57ca9e86",
      "metadata": {
        "id": "57ca9e86"
      },
      "source": [
        "# Classification_report and Confusion_matrix"
      ]
    },
    {
      "cell_type": "code",
      "execution_count": null,
      "id": "e94d331b",
      "metadata": {
        "colab": {
          "base_uri": "https://localhost:8080/",
          "height": 439
        },
        "id": "e94d331b",
        "outputId": "43fba2b4-7fcd-4c31-c67e-fd3c55bb0c9d"
      },
      "outputs": [
        {
          "output_type": "stream",
          "name": "stdout",
          "text": [
            "              precision    recall  f1-score   support\n",
            "\n",
            "         ham       0.97      1.00      0.98      1453\n",
            "        spam       1.00      0.78      0.88       219\n",
            "\n",
            "    accuracy                           0.97      1672\n",
            "   macro avg       0.98      0.89      0.93      1672\n",
            "weighted avg       0.97      0.97      0.97      1672\n",
            "\n"
          ]
        },
        {
          "output_type": "execute_result",
          "data": {
            "text/plain": [
              "<matplotlib.axes._subplots.AxesSubplot at 0x7f8232807c50>"
            ]
          },
          "metadata": {},
          "execution_count": 152
        },
        {
          "output_type": "display_data",
          "data": {
            "text/plain": [
              "<Figure size 432x288 with 2 Axes>"
            ],
            "image/png": "[encoded data removed]"
          },
          "metadata": {
            "needs_background": "light"
          }
        }
      ],
      "source": [
        "#Classification report\n",
        "print(classification_report(y_test,random_pred))\n",
        "#confusion_matrix\n",
        "cn=confusion_matrix(y_test,random_pred)\n",
        "sns.heatmap(cn,annot=True,cmap=\"cubehelix\",xticklabels=['ham','spam'],yticklabels=['ham','spam'])"
      ]
    },
    {
      "cell_type": "markdown",
      "id": "48254de9",
      "metadata": {
        "id": "48254de9"
      },
      "source": [
        "# XGBClassifier"
      ]
    },
    {
      "cell_type": "code",
      "execution_count": null,
      "id": "979c5007",
      "metadata": {
        "colab": {
          "base_uri": "https://localhost:8080/"
        },
        "id": "979c5007",
        "outputId": "0c4e2a1a-2374-4337-ccea-7c62d0e38a5a"
      },
      "outputs": [
        {
          "output_type": "execute_result",
          "data": {
            "text/plain": [
              "XGBClassifier()"
            ]
          },
          "metadata": {},
          "execution_count": 153
        }
      ],
      "source": [
        "#Install the XGBClassifier from the xgboost\n",
        "from xgboost import XGBClassifier\n",
        "#Install the XGBClassifier\n",
        "xgb=XGBClassifier()\n",
        "#Let's fit the traning data to the model\n",
        "xgb.fit(X_train,y_train)"
      ]
    },
    {
      "cell_type": "code",
      "execution_count": null,
      "id": "b4a1545f",
      "metadata": {
        "colab": {
          "base_uri": "https://localhost:8080/"
        },
        "id": "b4a1545f",
        "outputId": "4a433d8c-666b-4f65-b21f-ac5867811d13"
      },
      "outputs": [
        {
          "output_type": "execute_result",
          "data": {
            "text/plain": [
              "array(['ham', 'ham', 'ham', ..., 'ham', 'ham', 'ham'], dtype=object)"
            ]
          },
          "metadata": {},
          "execution_count": 154
        }
      ],
      "source": [
        "#XGBClassifier prediction to the test dataset\n",
        "xgb_pred=xgb.predict(X_test)\n",
        "xgb_pred"
      ]
    },
    {
      "cell_type": "code",
      "execution_count": null,
      "id": "f77772c6",
      "metadata": {
        "colab": {
          "base_uri": "https://localhost:8080/"
        },
        "id": "f77772c6",
        "outputId": "d5aa4776-61cc-48c6-eb25-1309ac86a2fb"
      },
      "outputs": [
        {
          "output_type": "stream",
          "name": "stdout",
          "text": [
            "The XGBClassifier model test score is 96.17\n",
            "The XGBClassifier model train scores is 97.03\n",
            "The XGBClassifier accuracy_score 96.17\n"
          ]
        }
      ],
      "source": [
        "#Check the test score and train score to the model\n",
        "print(f'The XGBClassifier model test score is {xgb.score(X_test,y_test)*100:.2f}')\n",
        "#Train score for the data\n",
        "print(f'The XGBClassifier model train scores is {xgb.score(X_train,y_train)*100:.2f}')\n",
        "#Check the accuracy_score to the model\n",
        "print(f'The XGBClassifier accuracy_score {accuracy_score(y_test,xgb_pred)*100:.2f}')"
      ]
    },
    {
      "cell_type": "markdown",
      "id": "b70471e3",
      "metadata": {
        "id": "b70471e3"
      },
      "source": [
        "# Classification_report and Confusion_matrix"
      ]
    },
    {
      "cell_type": "code",
      "execution_count": null,
      "id": "f7010ff0",
      "metadata": {
        "colab": {
          "base_uri": "https://localhost:8080/",
          "height": 439
        },
        "id": "f7010ff0",
        "outputId": "50b1acb0-564c-4bed-a358-f1013b2b07fe"
      },
      "outputs": [
        {
          "output_type": "stream",
          "name": "stdout",
          "text": [
            "              precision    recall  f1-score   support\n",
            "\n",
            "         ham       0.96      1.00      0.98      1453\n",
            "        spam       0.98      0.73      0.83       219\n",
            "\n",
            "    accuracy                           0.96      1672\n",
            "   macro avg       0.97      0.86      0.91      1672\n",
            "weighted avg       0.96      0.96      0.96      1672\n",
            "\n"
          ]
        },
        {
          "output_type": "execute_result",
          "data": {
            "text/plain": [
              "<matplotlib.axes._subplots.AxesSubplot at 0x7f8240e96490>"
            ]
          },
          "metadata": {},
          "execution_count": 156
        },
        {
          "output_type": "display_data",
          "data": {
            "text/plain": [
              "<Figure size 432x288 with 2 Axes>"
            ],
            "image/png": "[encoded data removed]"
          },
          "metadata": {
            "needs_background": "light"
          }
        }
      ],
      "source": [
        "#Classification report\n",
        "print(classification_report(y_test,xgb_pred))\n",
        "#confusion_matrix\n",
        "cn=confusion_matrix(y_test,xgb_pred)\n",
        "sns.heatmap(cn,annot=True,cmap=\"cubehelix\",xticklabels=['ham','spam'],yticklabels=['ham','spam'])"
      ]
    },
    {
      "cell_type": "markdown",
      "id": "b9154a59",
      "metadata": {
        "id": "b9154a59"
      },
      "source": [
        "# MultinomialNB"
      ]
    },
    {
      "cell_type": "code",
      "execution_count": null,
      "id": "6bb784ef",
      "metadata": {
        "colab": {
          "base_uri": "https://localhost:8080/"
        },
        "id": "6bb784ef",
        "outputId": "b6a1f8b3-adf6-479c-b034-97466c039994"
      },
      "outputs": [
        {
          "output_type": "execute_result",
          "data": {
            "text/plain": [
              "MultinomialNB()"
            ]
          },
          "metadata": {},
          "execution_count": 157
        }
      ],
      "source": [
        "#Import the MultinomialNB algorithm to train the our model\n",
        "from sklearn.naive_bayes import MultinomialNB\n",
        "#install the model\n",
        "multinomial=MultinomialNB()\n",
        "#fit the train data to our model\n",
        "multinomial.fit(X_train,y_train)"
      ]
    },
    {
      "cell_type": "code",
      "execution_count": null,
      "id": "c3667c98",
      "metadata": {
        "colab": {
          "base_uri": "https://localhost:8080/"
        },
        "id": "c3667c98",
        "outputId": "d0dc0b82-8749-4b76-fbc3-4ff4a5204dc4"
      },
      "outputs": [
        {
          "output_type": "execute_result",
          "data": {
            "text/plain": [
              "array(['ham', 'ham', 'ham', ..., 'ham', 'ham', 'ham'], dtype='<U4')"
            ]
          },
          "metadata": {},
          "execution_count": 158
        }
      ],
      "source": [
        "#MultinomialNB prediction to the test data\n",
        "multinomial_pred=multinomial.predict(X_test)\n",
        "multinomial_pred"
      ]
    },
    {
      "cell_type": "code",
      "execution_count": null,
      "id": "e1981483",
      "metadata": {
        "colab": {
          "base_uri": "https://localhost:8080/"
        },
        "id": "e1981483",
        "outputId": "8fc63c20-5b44-4ee6-8106-126054eee681"
      },
      "outputs": [
        {
          "output_type": "stream",
          "name": "stdout",
          "text": [
            "The MultinomialNB model test score is 95.22\n",
            "The MultinomialNB model train scores is 96.67\n",
            "The MultinomialNB accuracy_score 95.22\n"
          ]
        }
      ],
      "source": [
        "#Check the test score and train score to the model\n",
        "print(f'The MultinomialNB model test score is {multinomial.score(X_test,y_test)*100:.2f}')\n",
        "#Train score for the data\n",
        "print(f'The MultinomialNB model train scores is {multinomial.score(X_train,y_train)*100:.2f}')\n",
        "#Check the accuracy_score to the model\n",
        "print(f'The MultinomialNB accuracy_score {accuracy_score(y_test,multinomial_pred)*100:.2f}')"
      ]
    },
    {
      "cell_type": "markdown",
      "id": "6ce38e08",
      "metadata": {
        "id": "6ce38e08"
      },
      "source": [
        "# Classification_report and Confusion_matrix"
      ]
    },
    {
      "cell_type": "code",
      "execution_count": null,
      "id": "72862f49",
      "metadata": {
        "colab": {
          "base_uri": "https://localhost:8080/",
          "height": 439
        },
        "id": "72862f49",
        "outputId": "546de808-61af-4edf-9575-3435ad64b8a9"
      },
      "outputs": [
        {
          "output_type": "stream",
          "name": "stdout",
          "text": [
            "              precision    recall  f1-score   support\n",
            "\n",
            "         ham       0.95      1.00      0.97      1453\n",
            "        spam       1.00      0.63      0.78       219\n",
            "\n",
            "    accuracy                           0.95      1672\n",
            "   macro avg       0.97      0.82      0.87      1672\n",
            "weighted avg       0.95      0.95      0.95      1672\n",
            "\n"
          ]
        },
        {
          "output_type": "execute_result",
          "data": {
            "text/plain": [
              "<matplotlib.axes._subplots.AxesSubplot at 0x7f8240f58cd0>"
            ]
          },
          "metadata": {},
          "execution_count": 160
        },
        {
          "output_type": "display_data",
          "data": {
            "text/plain": [
              "<Figure size 432x288 with 2 Axes>"
            ],
            "image/png": "[encoded data removed]"
          },
          "metadata": {
            "needs_background": "light"
          }
        }
      ],
      "source": [
        "#Classification report\n",
        "print(classification_report(y_test,multinomial_pred))\n",
        "#confusion_matrix\n",
        "cn=confusion_matrix(y_test,multinomial_pred)\n",
        "sns.heatmap(cn,annot=True,cmap=\"cubehelix\",xticklabels=['ham','spam'],yticklabels=['ham','spam'])"
      ]
    },
    {
      "cell_type": "code",
      "execution_count": null,
      "id": "bfdc9968",
      "metadata": {
        "colab": {
          "base_uri": "https://localhost:8080/"
        },
        "id": "bfdc9968",
        "outputId": "648f1f4d-3905-4e54-b5b9-4d86b5f5139a"
      },
      "outputs": [
        {
          "output_type": "execute_result",
          "data": {
            "text/plain": [
              "AdaBoostClassifier()"
            ]
          },
          "metadata": {},
          "execution_count": 161
        }
      ],
      "source": [
        "#Import the AdaBosstClassifier from sklearn library\n",
        "from sklearn.ensemble import AdaBoostClassifier\n",
        "#Install the model\n",
        "adam=AdaBoostClassifier()\n",
        "#Fit the traiing data to the model\n",
        "adam.fit(X_train,y_train)"
      ]
    },
    {
      "cell_type": "code",
      "execution_count": null,
      "id": "91d1a0ef",
      "metadata": {
        "colab": {
          "base_uri": "https://localhost:8080/"
        },
        "id": "91d1a0ef",
        "outputId": "6f20c11a-68d8-4282-def5-bf7677413233"
      },
      "outputs": [
        {
          "output_type": "execute_result",
          "data": {
            "text/plain": [
              "array(['ham', 'ham', 'ham', ..., 'ham', 'ham', 'ham'], dtype=object)"
            ]
          },
          "metadata": {},
          "execution_count": 162
        }
      ],
      "source": [
        "#AdaBoostClassifier prediction to the dataset\n",
        "adam_pred=adam.predict(X_test)\n",
        "adam_pred"
      ]
    },
    {
      "cell_type": "code",
      "execution_count": null,
      "id": "0aa31c6c",
      "metadata": {
        "colab": {
          "base_uri": "https://localhost:8080/"
        },
        "id": "0aa31c6c",
        "outputId": "432fd0dd-8ccb-4e6f-cfac-59644cbd02c0"
      },
      "outputs": [
        {
          "output_type": "stream",
          "name": "stdout",
          "text": [
            "The AdaBoostClassifier model test score is 95.10\n",
            "The AdaBoostClassifier model train scores is 97.41\n",
            "The AdaBoostClassifier accuracy_score 95.10\n"
          ]
        }
      ],
      "source": [
        "#Check the test score and train score to the model\n",
        "print(f'The AdaBoostClassifier model test score is {adam.score(X_test,y_test)*100:.2f}')\n",
        "#Train score for the data\n",
        "print(f'The AdaBoostClassifier model train scores is {adam.score(X_train,y_train)*100:.2f}')\n",
        "#Check the accuracy_score to the model\n",
        "print(f'The AdaBoostClassifier accuracy_score {accuracy_score(y_test,adam_pred)*100:.2f}')"
      ]
    },
    {
      "cell_type": "markdown",
      "id": "83a2b457",
      "metadata": {
        "id": "83a2b457"
      },
      "source": [
        "# Classification_report and Confusion_matrix"
      ]
    },
    {
      "cell_type": "code",
      "execution_count": null,
      "id": "8bfb217f",
      "metadata": {
        "colab": {
          "base_uri": "https://localhost:8080/",
          "height": 439
        },
        "id": "8bfb217f",
        "outputId": "4f86884c-7945-4db0-9503-400d78a12fc0"
      },
      "outputs": [
        {
          "output_type": "stream",
          "name": "stdout",
          "text": [
            "              precision    recall  f1-score   support\n",
            "\n",
            "         ham       0.96      0.99      0.97      1453\n",
            "        spam       0.90      0.70      0.79       219\n",
            "\n",
            "    accuracy                           0.95      1672\n",
            "   macro avg       0.93      0.85      0.88      1672\n",
            "weighted avg       0.95      0.95      0.95      1672\n",
            "\n"
          ]
        },
        {
          "output_type": "execute_result",
          "data": {
            "text/plain": [
              "<matplotlib.axes._subplots.AxesSubplot at 0x7f8240e299d0>"
            ]
          },
          "metadata": {},
          "execution_count": 164
        },
        {
          "output_type": "display_data",
          "data": {
            "text/plain": [
              "<Figure size 432x288 with 2 Axes>"
            ],
            "image/png": "[encoded data removed]"
          },
          "metadata": {
            "needs_background": "light"
          }
        }
      ],
      "source": [
        "#Classification report\n",
        "print(classification_report(y_test,adam_pred))\n",
        "#confusion_matrix\n",
        "cn=confusion_matrix(y_test,adam_pred)\n",
        "sns.heatmap(cn,annot=True,cmap=\"cubehelix\",xticklabels=['ham','spam'],yticklabels=['ham','spam'])"
      ]
    },
    {
      "cell_type": "markdown",
      "id": "b869847c",
      "metadata": {
        "id": "b869847c"
      },
      "source": [
        "# Print the all model classification report"
      ]
    },
    {
      "cell_type": "code",
      "execution_count": null,
      "id": "a53968f8",
      "metadata": {
        "id": "a53968f8"
      },
      "outputs": [],
      "source": [
        "#Create a function to print the all model classification report\n",
        "def model_classification(models,names,X_train,y_train,X_test,y_test):\n",
        "    #create for loop for the model and name in zip of models,names\n",
        "    for (model,name) in zip(models,names):\n",
        "        #Prediction to the test data\n",
        "        y_pred=model.predict(X_test)\n",
        "        #Using the prediction to visualize the classification_report\n",
        "        result=classification_report(y_test,y_pred)\n",
        "        #And finaly print the classification report and divide the each classification report\n",
        "        print(\"Classification Report \\n\",result)\n",
        "        print(\"---------------------------------------------------------------------------------------\")\n",
        "        print(\"***************************************************************************************\")\n",
        "        print(\"########################################################################################\")"
      ]
    },
    {
      "cell_type": "code",
      "execution_count": null,
      "id": "4d985f53",
      "metadata": {
        "colab": {
          "base_uri": "https://localhost:8080/"
        },
        "id": "4d985f53",
        "outputId": "bbe52697-29d2-4859-95d8-7e918bdf585a"
      },
      "outputs": [
        {
          "output_type": "stream",
          "name": "stdout",
          "text": [
            "Classification Report \n",
            "               precision    recall  f1-score   support\n",
            "\n",
            "         ham       0.94      1.00      0.97      1453\n",
            "        spam       0.97      0.60      0.74       219\n",
            "\n",
            "    accuracy                           0.95      1672\n",
            "   macro avg       0.96      0.80      0.86      1672\n",
            "weighted avg       0.95      0.95      0.94      1672\n",
            "\n",
            "---------------------------------------------------------------------------------------\n",
            "***************************************************************************************\n",
            "########################################################################################\n",
            "Classification Report \n",
            "               precision    recall  f1-score   support\n",
            "\n",
            "         ham       0.97      0.98      0.97      1453\n",
            "        spam       0.85      0.80      0.82       219\n",
            "\n",
            "    accuracy                           0.96      1672\n",
            "   macro avg       0.91      0.89      0.90      1672\n",
            "weighted avg       0.95      0.96      0.95      1672\n",
            "\n",
            "---------------------------------------------------------------------------------------\n",
            "***************************************************************************************\n",
            "########################################################################################\n",
            "Classification Report \n",
            "               precision    recall  f1-score   support\n",
            "\n",
            "         ham       0.97      1.00      0.98      1453\n",
            "        spam       1.00      0.78      0.88       219\n",
            "\n",
            "    accuracy                           0.97      1672\n",
            "   macro avg       0.98      0.89      0.93      1672\n",
            "weighted avg       0.97      0.97      0.97      1672\n",
            "\n",
            "---------------------------------------------------------------------------------------\n",
            "***************************************************************************************\n",
            "########################################################################################\n",
            "Classification Report \n",
            "               precision    recall  f1-score   support\n",
            "\n",
            "         ham       0.96      1.00      0.98      1453\n",
            "        spam       0.98      0.73      0.83       219\n",
            "\n",
            "    accuracy                           0.96      1672\n",
            "   macro avg       0.97      0.86      0.91      1672\n",
            "weighted avg       0.96      0.96      0.96      1672\n",
            "\n",
            "---------------------------------------------------------------------------------------\n",
            "***************************************************************************************\n",
            "########################################################################################\n",
            "Classification Report \n",
            "               precision    recall  f1-score   support\n",
            "\n",
            "         ham       0.95      1.00      0.97      1453\n",
            "        spam       1.00      0.63      0.78       219\n",
            "\n",
            "    accuracy                           0.95      1672\n",
            "   macro avg       0.97      0.82      0.87      1672\n",
            "weighted avg       0.95      0.95      0.95      1672\n",
            "\n",
            "---------------------------------------------------------------------------------------\n",
            "***************************************************************************************\n",
            "########################################################################################\n",
            "Classification Report \n",
            "               precision    recall  f1-score   support\n",
            "\n",
            "         ham       0.96      0.99      0.97      1453\n",
            "        spam       0.90      0.70      0.79       219\n",
            "\n",
            "    accuracy                           0.95      1672\n",
            "   macro avg       0.93      0.85      0.88      1672\n",
            "weighted avg       0.95      0.95      0.95      1672\n",
            "\n",
            "---------------------------------------------------------------------------------------\n",
            "***************************************************************************************\n",
            "########################################################################################\n"
          ]
        }
      ],
      "source": [
        "#Create a list for the models\n",
        "models=[logistic,tree,random,xgb,multinomial,adam]\n",
        "#Create a list for the names\n",
        "names=['LogisticRegression','DecisionTreeClassifier','RandomForestClassifier','XGBboostClassifier','multinomialNB','AdamBoostClassifier']\n",
        "#And finally define the function with models and names\n",
        "model_classification(models,names,X_train,y_train,X_test,y_test)"
      ]
    },
    {
      "cell_type": "markdown",
      "id": "53e3d2d9",
      "metadata": {
        "id": "53e3d2d9"
      },
      "source": [
        "# About the data Classification reports:\n",
        "### Observe the above classification report, DecisionTreeClassifier given 96%,RandomForestClassifier given 97% and XGBClassifier given 97% accuracy_scores, the reaming model also give 95% accuracy_scores.And we also visualize the confusin_matrix using the seaborn"
      ]
    },
    {
      "cell_type": "markdown",
      "id": "4dd223c7",
      "metadata": {
        "id": "4dd223c7"
      },
      "source": [
        "# How to perfom the our model to the data"
      ]
    },
    {
      "cell_type": "code",
      "execution_count": null,
      "id": "c806c971",
      "metadata": {
        "colab": {
          "base_uri": "https://localhost:8080/",
          "height": 38
        },
        "id": "c806c971",
        "outputId": "12922865-80ec-45b5-bec8-84e72548fddf"
      },
      "outputs": [
        {
          "output_type": "execute_result",
          "data": {
            "text/plain": [
              "'The email is spam'"
            ],
            "application/vnd.google.colaboratory.intrinsic+json": {
              "type": "string"
            }
          },
          "metadata": {},
          "execution_count": 167
        }
      ],
      "source": [
        "text=\"free entry wkly comp win FA Cup final tkts st May Text FA receive entry questionstd txt ratetcs apply over\"\n",
        "text=[text]\n",
        "text_int=vector.transform(text)\n",
        "prediction=tree.predict(text_int)\n",
        "f\"The email is {prediction[0]}\""
      ]
    },
    {
      "cell_type": "code",
      "execution_count": null,
      "id": "4e945c6b",
      "metadata": {
        "colab": {
          "base_uri": "https://localhost:8080/",
          "height": 38
        },
        "id": "4e945c6b",
        "outputId": "0aba2bba-28a4-4dff-f563-418a33577a32"
      },
      "outputs": [
        {
          "output_type": "execute_result",
          "data": {
            "text/plain": [
              "'The email is ham'"
            ],
            "application/vnd.google.colaboratory.intrinsic+json": {
              "type": "string"
            }
          },
          "metadata": {},
          "execution_count": 168
        }
      ],
      "source": [
        "text=\"go jurong point crazy Available bugis n great world la e buffet Cine get amore wat\"\n",
        "text=[text]\n",
        "text_int=vector.transform(text)\n",
        "prediction=random.predict(text_int)\n",
        "f\"The email is {prediction[0]}\""
      ]
    },
    {
      "cell_type": "code",
      "execution_count": null,
      "id": "6e050e79",
      "metadata": {
        "colab": {
          "base_uri": "https://localhost:8080/",
          "height": 38
        },
        "id": "6e050e79",
        "outputId": "6634342b-be6b-46a4-ec93-93efc072aa36"
      },
      "outputs": [
        {
          "output_type": "execute_result",
          "data": {
            "text/plain": [
              "'The email is ham'"
            ],
            "application/vnd.google.colaboratory.intrinsic+json": {
              "type": "string"
            }
          },
          "metadata": {},
          "execution_count": 169
        }
      ],
      "source": [
        "text='I m go to home soon do not want talk stuff anymore tonight k I ve cry enough today'\n",
        "text=[text]\n",
        "text_int=vector.transform(text)\n",
        "prediction=xgb.predict(text_int)\n",
        "f\"The email is {prediction[0]}\""
      ]
    },
    {
      "cell_type": "code",
      "execution_count": null,
      "id": "4338621c",
      "metadata": {
        "colab": {
          "base_uri": "https://localhost:8080/",
          "height": 38
        },
        "id": "4338621c",
        "outputId": "476e8939-b6f9-48da-953f-aa370b6e1918"
      },
      "outputs": [
        {
          "output_type": "execute_result",
          "data": {
            "text/plain": [
              "'The email is spam'"
            ],
            "application/vnd.google.colaboratory.intrinsic+json": {
              "type": "string"
            }
          },
          "metadata": {},
          "execution_count": 170
        }
      ],
      "source": [
        "text='WINNER as value network customer select receivea å£ prize reward to claim call Claim code KL Valid hour'\n",
        "text=[text]\n",
        "text_int=vector.transform(text)\n",
        "prediction=xgb.predict(text_int)\n",
        "f\"The email is {prediction[0]}\""
      ]
    },
    {
      "cell_type": "code",
      "execution_count": null,
      "id": "183768b8",
      "metadata": {
        "colab": {
          "base_uri": "https://localhost:8080/",
          "height": 38
        },
        "id": "183768b8",
        "outputId": "1627543d-ace0-4e60-be8f-e4bca417b20c"
      },
      "outputs": [
        {
          "output_type": "execute_result",
          "data": {
            "text/plain": [
              "'The email is spam'"
            ],
            "application/vnd.google.colaboratory.intrinsic+json": {
              "type": "string"
            }
          },
          "metadata": {},
          "execution_count": 171
        }
      ],
      "source": [
        "text='have mobile month U r entitle Update late colour mobile camera Free Call the Mobile Update Co FREE'\n",
        "text=[text]\n",
        "text_int=vector.transform(text)\n",
        "prediction=random.predict(text_int)\n",
        "f\"The email is {prediction[0]}\""
      ]
    },
    {
      "cell_type": "markdown",
      "id": "548b37e3",
      "metadata": {
        "id": "548b37e3"
      },
      "source": [
        "# CONCLUSION"
      ]
    },
    {
      "cell_type": "markdown",
      "id": "a382b95f",
      "metadata": {
        "id": "a382b95f"
      },
      "source": [
        "### The dataset is taken from the Kaggle website, We predict the text is spam or harm, The data prepocessing contain several steps such as  basicEDA, text preprocessing, build different models, such as LogisticRegression,DecisiontreeClassification,RandomForestClassication,XGBboostClassifier,For the above model  DecisiontreeClassification,RandomForestClassication,XGBboostClassifier, have good accuracy score compare to the other model. After that We do Perfome the models for the test data and use the demo it."
      ]
    },
    {
      "cell_type": "code",
      "execution_count": null,
      "id": "48d937fa",
      "metadata": {
        "id": "48d937fa"
      },
      "outputs": [],
      "source": []
    }
  ],
  "metadata": {
    "kernelspec": {
      "display_name": "Python 3 (ipykernel)",
      "language": "python",
      "name": "python3"
    },
    "language_info": {
      "codemirror_mode": {
        "name": "ipython",
        "version": 3
      },
      "file_extension": ".py",
      "mimetype": "text/x-python",
      "name": "python",
      "nbconvert_exporter": "python",
      "pygments_lexer": "ipython3",
      "version": "3.9.12"
    },
    "colab": {
      "provenance": []
    },
    "accelerator": "GPU",
    "gpuClass": "standard"
  },
  "nbformat": 4,
  "nbformat_minor": 5
}